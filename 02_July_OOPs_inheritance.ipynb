{
 "cells": [
  {
   "cell_type": "markdown",
   "metadata": {},
   "source": [
    "1. Explain what inheritance is in object-oriented programming and why it is used."
   ]
  },
  {
   "cell_type": "markdown",
   "metadata": {},
   "source": [
    "Inheritance is a fundamental concept in object-oriented programming (OOP) that allows a class to inherit the properties and behaviors of another class. Inheritance establishes a parent-child relationship between classes, where the child class (also known as the derived class or subclass) inherits characteristics from the parent class (also known as the base class or superclass).<br>\n",
    "\n",
    "Inheritance is used for several reasons:<br>\n",
    "\n",
    "Code Reusability: Inheritance promotes code reuse by allowing the child class to inherit and reuse the attributes and methods defined in the parent class. The child class does not need to re-implement the common functionalities, reducing code duplication and making the code more maintainable.<br>\n",
    "\n",
    "Modularity and Organization: Inheritance helps in organizing classes into a hierarchy based on their relationships. Common attributes and behaviors are placed in a higher-level superclass, which can be further specialized by derived classes. This hierarchical structure improves code organization, readability, and maintainability.<br>\n",
    "\n",
    "Polymorphism: Inheritance plays a crucial role in achieving polymorphism, which allows objects of different classes to be treated interchangeably. Through inheritance, multiple subclasses can inherit from a common superclass, and objects of these subclasses can be used wherever objects of the superclass are expected. This flexibility facilitates writing generic code that can handle different types of objects.<br>\n",
    "\n",
    "Overriding and Extending: Inheritance enables subclasses to override and extend the behavior of their parent class. Subclasses can provide their own implementations of inherited methods, allowing customization and specialization based on specific requirements. This feature enables fine-grained control over the behavior of objects.<br>\n",
    "\n",
    "Conceptual Modeling: Inheritance models real-world relationships and hierarchies in a natural and intuitive way. It allows programmers to represent commonalities and differences between classes based on their inherent characteristics and relationships, making the code more closely aligned with the problem domain.<br>\n",
    "\n",
    "Overall, inheritance is a powerful mechanism in OOP that promotes code reuse, modularity, extensibility, and conceptual modeling. It enhances the flexibility and maintainability of code by allowing the creation of hierarchies of classes with varying levels of specialization."
   ]
  },
  {
   "cell_type": "markdown",
   "metadata": {},
   "source": [
    "2. Discuss the concept of single inheritance and multiple inheritance, highlighting their\n",
    "differences and advantages."
   ]
  },
  {
   "cell_type": "markdown",
   "metadata": {},
   "source": [
    "In object-oriented programming (OOP), single inheritance and multiple inheritance are two different approaches to class inheritance, with distinct characteristics and use cases. Here's an overview of each:<br>\n",
    "\n",
    "Single Inheritance:<br>\n",
    "\n",
    "Single inheritance refers to the ability of a class to inherit from a single parent class (superclass).\n",
    "In single inheritance, a derived class (subclass) can inherit attributes and behaviors from only one superclass.\n",
    "The derived class extends the functionality of the superclass by adding new attributes and methods or by overriding the existing ones.<br>\n",
    "Single inheritance promotes simplicity and clarity by enforcing a clear and straightforward hierarchy of classes.\n",
    "It is often used when there is a clear and natural parent-child relationship between classes, and there is no need to inherit from multiple sources.<br>\n",
    "Multiple Inheritance:<br>\n",
    "\n",
    "Multiple inheritance refers to the ability of a class to inherit from multiple parent classes (superclasses).\n",
    "In multiple inheritance, a derived class can inherit attributes and behaviors from multiple superclasses.\n",
    "The derived class combines and extends the functionality of multiple superclasses, incorporating their attributes and methods.<br><br>\n",
    "Multiple inheritance provides more flexibility and allows for the reuse of code from multiple sources.\n",
    "It is useful when there are multiple independent sources of functionality that a class wants to inherit from or when a class needs to exhibit characteristics from multiple domains or interfaces.\n",
    "Differences and Advantages:<br>\n",
    "\n",
    "The primary difference between single inheritance and multiple inheritance lies in the number of parent classes that a derived class can inherit from. Single inheritance allows only one parent class, while multiple inheritance allows multiple parent classes.<br>\n",
    "Single inheritance offers a simpler and more straightforward class hierarchy, making the code easier to understand and maintain. It avoids the complexities that can arise with multiple inheritance, such as potential conflicts or ambiguities when inheriting conflicting attributes or methods from different parent classes.<br><br>\n",
    "Multiple inheritance provides more flexibility and code reuse opportunities by allowing a class to inherit from multiple sources. It allows the derived class to combine and integrate functionalities from different parent classes, resulting in more powerful and versatile class designs.<br>\n",
    "Multiple inheritance is particularly useful when there are clear use cases for combining different sets of behaviors or when there is a need to model complex relationships between classes that cannot be easily expressed with single inheritance alone.<br>\n",
    "It's important to note that multiple inheritance should be used judiciously, as it can introduce challenges in terms of code organization, potential conflicts, and increased complexity. Proper design considerations, such as managing naming conflicts and ensuring clarity, are crucial when employing multiple inheritance.<br>\n",
    "In summary, single inheritance provides simplicity and clarity, while multiple inheritance offers flexibility and code reuse opportunities. The choice between them depends on the specific requirements, relationships, and complexities involved in the design of the class hierarchy.<br>"
   ]
  },
  {
   "cell_type": "markdown",
   "metadata": {},
   "source": [
    "3. Explain the terms \"base class\" and \"derived class\" in the context of inheritance."
   ]
  },
  {
   "cell_type": "markdown",
   "metadata": {},
   "source": [
    "In the context of inheritance, \"base class\" and \"derived class\" are terminologies used to describe the relationship between classes.<br>\n",
    "\n",
    "Base Class (Superclass):<br>\n",
    "\n",
    "A base class, also known as a superclass or parent class, is the class from which other classes inherit properties and behaviors.<br>\n",
    "It serves as the foundation or starting point for inheritance. The base class defines common attributes and methods that can be shared by multiple derived classes.<br>\n",
    "A base class can have its own attributes, methods, and possibly other specialized subclasses derived from it.\n",
    "The primary purpose of a base class is to provide a blueprint or template for derived classes to inherit from and extend.<br><br>\n",
    "Derived Class (Subclass):<br>\n",
    "\n",
    "A derived class, also known as a subclass or child class, is a class that inherits properties and behaviors from a base class.<br>\n",
    "The derived class extends the functionality of the base class by adding new attributes and methods or by overriding the existing ones.<br>\n",
    "A derived class can have its own additional attributes and methods, which are specific to its specialization or unique requirements.<br>\n",
    "The derived class inherits all the non-private attributes and methods of the base class and can modify or customize them as needed.<br>\n",
    "Multiple derived classes can be derived from a single base class, forming a hierarchy of classes."
   ]
  },
  {
   "cell_type": "markdown",
   "metadata": {},
   "source": [
    "4. What is the significance of the \"protected\" access modifier in inheritance? How does\n",
    "it differ from \"private\" and \"public\" modifiers?"
   ]
  },
  {
   "cell_type": "markdown",
   "metadata": {},
   "source": [
    "Public Access Modifier:<br>\n",
    "\n",
    "Attributes or methods declared as public are accessible from anywhere within the program, including outside the class or in derived classes.<br>\n",
    "Public attributes and methods are denoted by not using any prefix or by using a single underscore prefix (e.g., attribute, _method()).\n",
    "Protected Access Modifier:<br>\n",
    "The protected access modifier is typically indicated by a single leading underscore prefix (e.g., _attribute, _method()).<br>\n",
    "Protected attributes and methods are meant to be internal to the class and its derived classes. While they can be accessed from within the class itself and its subclasses, they are conventionally considered non-public and should be treated as such by other parts of the program.<br>\n",
    "The use of protected access is a way to communicate to other developers that the attribute or method is intended for internal use within the class hierarchy and should not be accessed directly from outside.<br>\n",
    "Private Access Modifier:<br>\n",
    "A double leading underscore prefix (e.g., __attribute, __method()) is used to indicate private attributes and methods.<br>\n",
    "Private attributes and methods are intended to be strictly internal to the class. They are not accessible directly from outside the class, including derived classes.<br>\n",
    "The double underscore prefix also performs name mangling, which means the attribute or method name gets modified internally to avoid naming conflicts with subclasses.<br>\n",
    "\n",
    "The significance of the \"protected\" access modifier in inheritance is to indicate that attributes and methods are intended for internal use within a class and its derived classes. While accessible from within the class hierarchy, they are conventionally treated as non-public. The protected access differs from private access in that it allows access from derived classes, while private access restricts access even to derived classes. Public access allows unrestricted access from anywhere within the program.<br>"
   ]
  },
  {
   "cell_type": "markdown",
   "metadata": {},
   "source": [
    "5. What is the purpose of the \"super\" keyword in inheritance? Provide an example."
   ]
  },
  {
   "cell_type": "markdown",
   "metadata": {},
   "source": [
    "In inheritance, the \"super\" keyword is used to refer to the superclass (or base class) from within a subclass. It allows the subclass to invoke and utilize the methods and attributes of its superclass. The \"super\" keyword is commonly used when overriding methods or when the subclass wants to extend or modify the behavior of the superclass.<br>\n",
    "\n",
    "The primary purposes of the \"super\" keyword in inheritance are:<br>\n",
    "\n",
    "Method Overriding: When a subclass overrides a method of its superclass, the \"super\" keyword can be used to call the overridden method of the superclass from within the subclass. This allows the subclass to reuse the functionality of the superclass while adding or modifying specific behavior.<br>\n",
    "\n",
    "Constructor Chaining: In cases where a subclass has its own constructor, the \"super\" keyword can be used to call the constructor of the superclass before executing the subclass constructor. This ensures that the initialization steps defined in the superclass are performed before the subclass-specific initialization.<br>"
   ]
  },
  {
   "cell_type": "code",
   "execution_count": 1,
   "metadata": {},
   "outputs": [
    {
     "name": "stdout",
     "output_type": "stream",
     "text": [
      "Whiskers\n",
      "Persian\n",
      "Generic animal sound.\n",
      "Meow!\n"
     ]
    }
   ],
   "source": [
    "#Ex\n",
    "class Animal:\n",
    "    def __init__(self, name):\n",
    "        self.name = name\n",
    "\n",
    "    def make_sound(self):\n",
    "        print(\"Generic animal sound.\")\n",
    "\n",
    "class Cat(Animal):\n",
    "    def __init__(self, name, breed):\n",
    "        super().__init__(name)  # Calling the superclass constructor\n",
    "        self.breed = breed\n",
    "\n",
    "    def make_sound(self):\n",
    "        super().make_sound()  # Calling the overridden method of the superclass\n",
    "        print(\"Meow!\")\n",
    "\n",
    "# Creating an instance of the Cat class\n",
    "cat = Cat(\"Whiskers\", \"Persian\")\n",
    "\n",
    "print(cat.name)    # Output: Whiskers\n",
    "print(cat.breed)   # Output: Siamese\n",
    "\n",
    "cat.make_sound()\n",
    "# Output:\n",
    "# Generic animal sound.\n",
    "# Meow!\n"
   ]
  },
  {
   "cell_type": "markdown",
   "metadata": {},
   "source": [
    "6. Create a base class called \"Vehicle\" with attributes like \"make\", \"model\", and \"year\".\n",
    "Then, create a derived class called \"Car\" that inherits from \"Vehicle\" and adds an\n",
    "attribute called \"fuel_type\". Implement appropriate methods in both classes."
   ]
  },
  {
   "cell_type": "code",
   "execution_count": 2,
   "metadata": {},
   "outputs": [
    {
     "name": "stdout",
     "output_type": "stream",
     "text": [
      "Make: Honda, Model: Civic, Year: 2021\n",
      "Make: Toyota, Model: Corolla, Year: 2022, Fuel Type: Gasoline\n"
     ]
    }
   ],
   "source": [
    "class Vehicle:\n",
    "    def __init__(self, make, model, year):\n",
    "        self.make = make\n",
    "        self.model = model\n",
    "        self.year = year\n",
    "\n",
    "    def get_info(self):\n",
    "        return f\"Make: {self.make}, Model: {self.model}, Year: {self.year}\"\n",
    "\n",
    "class Car(Vehicle):\n",
    "    def __init__(self, make, model, year, fuel_type):\n",
    "        super().__init__(make, model, year)\n",
    "        self.fuel_type = fuel_type\n",
    "\n",
    "    def get_info(self):\n",
    "        vehicle_info = super().get_info()\n",
    "        return f\"{vehicle_info}, Fuel Type: {self.fuel_type}\"\n",
    "\n",
    "# Example usage:\n",
    "vehicle = Vehicle(\"Honda\", \"Civic\", 2021)\n",
    "print(vehicle.get_info())  # Output: Make: Honda, Model: Civic, Year: 2021\n",
    "\n",
    "car = Car(\"Toyota\", \"Corolla\", 2022, \"Gasoline\")\n",
    "print(car.get_info())  # Output: Make: Toyota, Model: Corolla, Year: 2022, Fuel Type: Gasoline\n"
   ]
  },
  {
   "cell_type": "markdown",
   "metadata": {},
   "source": [
    "7. Create a base class called \"Employee\" with attributes like \"name\" and \"salary.\"\n",
    "Derive two classes, \"Manager\" and \"Developer,\" from \"Employee.\" Add an additional\n",
    "attribute called \"department\" for the \"Manager\" class and \"programming_language\"\n",
    "for the \"Developer\" class."
   ]
  },
  {
   "cell_type": "code",
   "execution_count": 3,
   "metadata": {},
   "outputs": [
    {
     "name": "stdout",
     "output_type": "stream",
     "text": [
      "Name: John Doe, Salary: 50000\n",
      "---------------------------------------------------------------------\n",
      "Name: Alice Smith, Salary: 70000, Department: Marketing\n",
      "---------------------------------------------------------------------\n",
      "Name: Bob Johnson, Salary: 60000, Programming Language: Python\n"
     ]
    }
   ],
   "source": [
    "class Employee:\n",
    "    def __init__(self, name, salary):\n",
    "        self.name = name\n",
    "        self.salary = salary\n",
    "\n",
    "    def get_info(self):\n",
    "        return f\"Name: {self.name}, Salary: {self.salary}\"\n",
    "\n",
    "\n",
    "class Manager(Employee):\n",
    "    def __init__(self, name, salary, department):\n",
    "        super().__init__(name, salary)\n",
    "        self.department = department\n",
    "\n",
    "    def get_info(self):\n",
    "        employee_info = super().get_info()\n",
    "        return f\"{employee_info}, Department: {self.department}\"\n",
    "\n",
    "\n",
    "class Developer(Employee):\n",
    "    def __init__(self, name, salary, programming_language):\n",
    "        super().__init__(name, salary)\n",
    "        self.programming_language = programming_language\n",
    "\n",
    "    def get_info(self):\n",
    "        employee_info = super().get_info()\n",
    "        return f\"{employee_info}, Programming Language: {self.programming_language}\"\n",
    "\n",
    "\n",
    "# Example usage:\n",
    "employee = Employee(\"John Doe\", 50000)\n",
    "print(employee.get_info())  # Output: Name: John Doe, Salary: 50000\n",
    "print('---------------------------------------------------------------------')\n",
    "\n",
    "manager = Manager(\"Alice Smith\", 70000, \"Marketing\")\n",
    "print(manager.get_info())  # Output: Name: Alice Smith, Salary: 70000, Department: Marketing\n",
    "\n",
    "print('---------------------------------------------------------------------')\n",
    "developer = Developer(\"Bob Johnson\", 60000, \"Python\")\n",
    "print(developer.get_info())  # Output: Name: Bob Johnson, Salary: 60000, Programming Language: Python\n"
   ]
  },
  {
   "cell_type": "markdown",
   "metadata": {},
   "source": [
    "8. Design a base class called \"Shape\" with attributes like \"colour\" and \"border_width.\"\n",
    "Create derived classes, \"Rectangle\" and \"Circle,\" that inherit from \"Shape\" and add\n",
    "specific attributes like \"length\" and \"width\" for the \"Rectangle\" class and \"radius\" for\n",
    "the \"Circle\" class."
   ]
  },
  {
   "cell_type": "code",
   "execution_count": 5,
   "metadata": {},
   "outputs": [
    {
     "name": "stdout",
     "output_type": "stream",
     "text": [
      "Red\n",
      "2\n",
      "Green\n",
      "3\n",
      "5\n"
     ]
    }
   ],
   "source": [
    "class Shape:\n",
    "    def __init__(self, colour, border_width):\n",
    "        self.colour = colour\n",
    "        self.border_width = border_width\n",
    "\n",
    "\n",
    "class Rectangle(Shape):\n",
    "    def __init__(self, colour, border_width, length, width):\n",
    "        super().__init__(colour, border_width)\n",
    "        self.length = length\n",
    "        self.width = width\n",
    "\n",
    "\n",
    "class Circle(Shape):\n",
    "    def __init__(self, colour, border_width, radius):\n",
    "        super().__init__(colour, border_width)\n",
    "        self.radius = radius\n",
    "\n",
    "\n",
    "# Example usage:\n",
    "shape = Shape(\"Red\", 2)\n",
    "print(shape.colour)         # Output: Red\n",
    "print(shape.border_width)   # Output: 2\n",
    "\n",
    "\n",
    "circle = Circle(\"Green\", 3, 5)\n",
    "print(circle.colour)        # Output: Green\n",
    "print(circle.border_width)  # Output: 3\n",
    "print(circle.radius)        # Output: 5\n"
   ]
  },
  {
   "cell_type": "markdown",
   "metadata": {},
   "source": [
    "9. Create a base class called \"Device\" with attributes like \"brand\" and \"model.\" Derive\n",
    "two classes, \"Phone\" and \"Tablet,\" from \"Device.\" Add specific attributes like\n",
    "\"screen_size\" for the \"Phone\" class and \"battery_capacity\" for the \"Tablet\" class."
   ]
  },
  {
   "cell_type": "code",
   "execution_count": 6,
   "metadata": {},
   "outputs": [
    {
     "name": "stdout",
     "output_type": "stream",
     "text": [
      "Apple\n",
      "iPhone X\n",
      "Apple\n",
      "iPad Pro\n",
      "9720\n"
     ]
    }
   ],
   "source": [
    "class Device:\n",
    "    def __init__(self, brand, model):\n",
    "        self.brand = brand\n",
    "        self.model = model\n",
    "\n",
    "\n",
    "class Phone(Device):\n",
    "    def __init__(self, brand, model, screen_size):\n",
    "        super().__init__(brand, model)\n",
    "        self.screen_size = screen_size\n",
    "\n",
    "\n",
    "class Tablet(Device):\n",
    "    def __init__(self, brand, model, battery_capacity):\n",
    "        super().__init__(brand, model)\n",
    "        self.battery_capacity = battery_capacity\n",
    "\n",
    "\n",
    "# Example usage:\n",
    "device = Device(\"Apple\", \"iPhone X\")\n",
    "print(device.brand)       \n",
    "print(device.model)        \n",
    "\n",
    "\n",
    "tablet = Tablet(\"Apple\", \"iPad Pro\", 9720)\n",
    "print(tablet.brand)        # Output: Apple\n",
    "print(tablet.model)        # Output: iPad Pro\n",
    "print(tablet.battery_capacity)  # Output: 9720\n"
   ]
  },
  {
   "cell_type": "markdown",
   "metadata": {},
   "source": [
    "10. Create a base class called \"BankAccount\" with attributes like \"account_number\" and\n",
    "\"balance.\" Derive two classes, \"SavingsAccount\" and \"CheckingAccount,\" from\n",
    "\"BankAccount.\" Add specific methods like \"calculate_interest\" for the\n",
    "\"SavingsAccount\" class and \"deduct_fees\" for the \"CheckingAccount\" class."
   ]
  },
  {
   "cell_type": "code",
   "execution_count": 7,
   "metadata": {},
   "outputs": [
    {
     "name": "stdout",
     "output_type": "stream",
     "text": [
      "Interest calculated and added: 50.0\n",
      "Fees deducted: 10\n",
      "1050.0\n",
      "490\n"
     ]
    }
   ],
   "source": [
    "class BankAccount:\n",
    "    def __init__(self, account_number, balance):\n",
    "        self.account_number = account_number\n",
    "        self.balance = balance\n",
    "\n",
    "\n",
    "class SavingsAccount(BankAccount):\n",
    "    def __init__(self, account_number, balance):\n",
    "        super().__init__(account_number, balance)\n",
    "\n",
    "    def calculate_interest(self, interest_rate):\n",
    "        interest = self.balance * interest_rate\n",
    "        self.balance += interest\n",
    "        print(f\"Interest calculated and added: {interest}\")\n",
    "\n",
    "\n",
    "class CheckingAccount(BankAccount):\n",
    "    def __init__(self, account_number, balance):\n",
    "        super().__init__(account_number, balance)\n",
    "\n",
    "    def deduct_fees(self, fee_amount):\n",
    "        self.balance -= fee_amount\n",
    "        print(f\"Fees deducted: {fee_amount}\")\n",
    "\n",
    "\n",
    "# Example usage:\n",
    "account1 = SavingsAccount(\"SA001\", 1000)\n",
    "account1.calculate_interest(0.05)  # Output: Interest calculated and added: 50\n",
    "\n",
    "account2 = CheckingAccount(\"CA001\", 500)\n",
    "account2.deduct_fees(10)  # Output: Fees deducted: 10\n",
    "\n",
    "print(account1.balance)  # Output: 1050\n",
    "print(account2.balance)  # Output: 490\n"
   ]
  },
  {
   "cell_type": "code",
   "execution_count": null,
   "metadata": {},
   "outputs": [],
   "source": []
  }
 ],
 "metadata": {
  "kernelspec": {
   "display_name": "Python 3",
   "language": "python",
   "name": "python3"
  },
  "language_info": {
   "codemirror_mode": {
    "name": "ipython",
    "version": 3
   },
   "file_extension": ".py",
   "mimetype": "text/x-python",
   "name": "python",
   "nbconvert_exporter": "python",
   "pygments_lexer": "ipython3",
   "version": "3.8.5"
  }
 },
 "nbformat": 4,
 "nbformat_minor": 4
}
