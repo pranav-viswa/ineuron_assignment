{
 "cells": [
  {
   "cell_type": "markdown",
   "metadata": {},
   "source": [
    "<center><b>21 May</b><br></center>\n",
    "\n",
    "<center><b>Python Basic - 2</b></center>"
   ]
  },
  {
   "cell_type": "markdown",
   "metadata": {},
   "source": [
    "Q.1. Create two int type variables, apply addition, subtraction, division and multiplications<br>\n",
    "and store the results in variables. Then print the data in the following format by calling the<br>\n",
    "variables:<br>\n",
    "First variable is __ & second variable is __.<br>\n",
    "Addition: __ + __ = __<br>\n",
    "Subtraction: __ - __ = __<br>\n",
    "Multiplication: __ * __ = __<br>\n",
    "Division: __ / __ = __<br>"
   ]
  },
  {
   "cell_type": "code",
   "execution_count": 3,
   "metadata": {},
   "outputs": [
    {
     "name": "stdout",
     "output_type": "stream",
     "text": [
      "First variable is 10 & second variable 3 \n",
      "Addition :10 + 3 = 13\n",
      "Subtraction :10 - 3 = 7\n",
      "Multiplication: 10 * 3 = 30\n",
      "Division :10 / 3 = 3.3333333333333335\n"
     ]
    }
   ],
   "source": [
    "a= 10\n",
    "b=3 \n",
    "\n",
    "print(f\"First variable is {a} & second variable {b} \")\n",
    "print(f\"Addition :{a} + {b} = {a+b}\")\n",
    "print(f\"Subtraction :{a} - {b} = {a-b}\")\n",
    "print(f\"Multiplication: {a} * {b} = {a*b}\")\n",
    "print(f\"Division :{a} / {b} = {a/b}\")"
   ]
  },
  {
   "cell_type": "markdown",
   "metadata": {},
   "source": [
    "Q.2. What is the difference between the following operators:<br>\n",
    "(i) ‘/’ & ‘//’<br>\n",
    "(ii) ‘**’ & ‘^’<br>"
   ]
  },
  {
   "cell_type": "markdown",
   "metadata": {},
   "source": [
    "(i) ‘/’ & ‘//’ :<br> \n",
    "Division using /:<br>\n",
    "\n",
    "The / operator performs regular division and returns a floating-point result.<br>\n",
    "If both operands are integers, the result will be a float if the division is not exact.<br>\n",
    "If one or both operands are floats, the result will be a float.<br>\n",
    "Here's an example:<br>\n"
   ]
  },
  {
   "cell_type": "code",
   "execution_count": 5,
   "metadata": {},
   "outputs": [
    {
     "name": "stdout",
     "output_type": "stream",
     "text": [
      "3.5\n"
     ]
    }
   ],
   "source": [
    "\n",
    "result = 7 / 2\n",
    "print(result)  # Output: 3.5\n",
    "##In this case, 7 divided by 2 is 3.5, and the result is a float.\n",
    "\n"
   ]
  },
  {
   "cell_type": "markdown",
   "metadata": {},
   "source": [
    "\n",
    "(ii) ‘**’ & ‘^’<br>\n",
    "\n",
    "Floor division using //:<br>\n",
    "\n",
    "The // operator performs floor division and returns the largest integer less than or equal to the result.<br>\n",
    "The result is always an integer, regardless of the data types of the operands.<br>\n",
    "Here's an example:<br>\n"
   ]
  },
  {
   "cell_type": "code",
   "execution_count": 6,
   "metadata": {},
   "outputs": [
    {
     "name": "stdout",
     "output_type": "stream",
     "text": [
      "3\n"
     ]
    }
   ],
   "source": [
    "result = 7 // 2\n",
    "print(result)  # Output: 3\n",
    "\n",
    "#In this case, 7 divided by 2 is 3.5, but floor division returns the integer 3, as it represents the largest integer less than or equal to 3.5.\n",
    "\n"
   ]
  },
  {
   "cell_type": "markdown",
   "metadata": {},
   "source": [
    "Q.3. List the logical operators."
   ]
  },
  {
   "cell_type": "markdown",
   "metadata": {},
   "source": [
    "In Python, there are three logical operators: and, or, and not. <br>\n",
    "These operators are used to perform logical operations on boolean values (True or False).<br>\n",
    "\n",
    "\n"
   ]
  },
  {
   "cell_type": "code",
   "execution_count": 7,
   "metadata": {},
   "outputs": [],
   "source": [
    "#and: \n",
    "#The and operator returns True if both operands are True, \n",
    "#otherwise, it returns False. It evaluates the operands from left to right and stops evaluating \n",
    "#as soon as it encounters a False operand. If all operands are True, the final result is True. \n",
    "#Otherwise, if any operand is False, the result is False.\n",
    "\n",
    "\n",
    "#or: The or operator returns True if at least one of the operands is True. \n",
    "#It evaluates the operands from left to right and stops evaluating as soon as it encounters a True operand. \n",
    "#If any operand is True, the final result is True. Only if all operands are False, the result is False.\n",
    "\n",
    "#not: The not operator returns the opposite of the operand's boolean value. \n",
    "#If the operand is True, not returns False. If the operand is False, not returns True.\n",
    "\n"
   ]
  },
  {
   "cell_type": "markdown",
   "metadata": {},
   "source": [
    "Q.4. Explain right shift operator and left shift operator with examples."
   ]
  },
  {
   "cell_type": "markdown",
   "metadata": {},
   "source": [
    "Right shift (>>) operator:<br>\n",
    "\n",
    "The right shift operator (>>) moves the bits of the left operand to the right by a specified number of positions. <br>\n",
    "It effectively divides the left operand by 2 to the power of the specified number.<br>\n",
    "\n",
    "The syntax for the right shift operator is x >> y, where x is the value to be shifted, and y is the number of positions to <br>shift.<br>\n",
    "\n",
    "The right shift operator fills the vacant bits on the left side with the sign bit (the most significant bit) for signed <br>integers or with zeros for unsigned integers.<br>\n",
    "\n"
   ]
  },
  {
   "cell_type": "code",
   "execution_count": 8,
   "metadata": {},
   "outputs": [
    {
     "name": "stdout",
     "output_type": "stream",
     "text": [
      "2\n"
     ]
    }
   ],
   "source": [
    "x = 10  # Binary representation: 00001010\n",
    "y = 2\n",
    "result = x >> y\n",
    "print(result)  # Output: 2\n"
   ]
  },
  {
   "cell_type": "markdown",
   "metadata": {},
   "source": [
    "Left shift (<<) operator:<br>\n",
    "\n",
    "The left shift operator (<<) moves the bits of the left operand to the left by a specified number of positions. It<br> effectively multiplies the left operand by 2 to the power of the specified number.<br>\n",
    "\n",
    "The syntax for the left shift operator is x << y, where x is the value to be shifted, and y is the number of positions to<br> shift.\n",
    "\n",
    "The left shift operator fills the vacant bits on the right side with zeros.<br>\n",
    "\n"
   ]
  },
  {
   "cell_type": "code",
   "execution_count": 9,
   "metadata": {},
   "outputs": [
    {
     "name": "stdout",
     "output_type": "stream",
     "text": [
      "20\n"
     ]
    }
   ],
   "source": [
    "x = 5  # Binary representation: 00000101\n",
    "y = 2\n",
    "result = x << y\n",
    "print(result)  # Output: 20\n"
   ]
  },
  {
   "cell_type": "markdown",
   "metadata": {},
   "source": [
    "Q.5. Create a list containing int type data of length 15. Then write a code to check if 10 is\n",
    "present in the list or not."
   ]
  },
  {
   "cell_type": "code",
   "execution_count": 10,
   "metadata": {},
   "outputs": [
    {
     "name": "stdout",
     "output_type": "stream",
     "text": [
      "10 is present in the list.\n"
     ]
    }
   ],
   "source": [
    "# Create a list of integers\n",
    "my_list = [5, 3, 7, 8, 2, 1, 10, 6, 4, 9, 12, 11, 15, 13, 14]\n",
    "\n",
    "# Check if 10 is present in the list\n",
    "if 10 in my_list:\n",
    "    print(\"10 is present in the list.\")\n",
    "else:\n",
    "    print(\"10 is not present in the list.\")\n"
   ]
  },
  {
   "cell_type": "code",
   "execution_count": null,
   "metadata": {},
   "outputs": [],
   "source": []
  }
 ],
 "metadata": {
  "kernelspec": {
   "display_name": "Python 3",
   "language": "python",
   "name": "python3"
  },
  "language_info": {
   "codemirror_mode": {
    "name": "ipython",
    "version": 3
   },
   "file_extension": ".py",
   "mimetype": "text/x-python",
   "name": "python",
   "nbconvert_exporter": "python",
   "pygments_lexer": "ipython3",
   "version": "3.8.5"
  }
 },
 "nbformat": 4,
 "nbformat_minor": 4
}
