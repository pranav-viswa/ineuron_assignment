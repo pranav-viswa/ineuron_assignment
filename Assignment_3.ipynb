{
 "cells": [
  {
   "cell_type": "markdown",
   "metadata": {},
   "source": [
    "1. Why are functions advantageous to have in your programs?"
   ]
  },
  {
   "cell_type": "markdown",
   "metadata": {},
   "source": [
    "1) Funtions help to break down the problem into smaller pieces and as a result it becomes easy to build a product .<br>\n",
    "2) By encapsulating a specific set of instructions within a function, we can easily reuse that functionality throughout wer program or in different programs altogether. This promotes modularity and code reusability, making wer code more organized and easier to maintain.<br>\n",
    "3)Functions enable we to reuse blocks of code without having to rewrite them multiple times.<br>\n",
    "4)Functions allow we to abstract away the implementation details of a certain operation or task.<br>\n",
    "5)Functions provide a way to structure wer code and make it more organized. By dividing wer program into smaller functions, each responsible for a specific task, we can achieve a more modular and readable codebase.<br>\n",
    "6)Functions can accept parameters, allowing we to make them more flexible and versatile. By passing arguments to a function, we can customize its behavior based on different inputs. This parameterization adds flexibility to wer code and enables we to reuse the same function with different values."
   ]
  },
  {
   "cell_type": "markdown",
   "metadata": {},
   "source": [
    "2. When does the code in a function run: when it&#39;s specified or when it&#39;s called?"
   ]
  },
  {
   "cell_type": "markdown",
   "metadata": {},
   "source": [
    "The code in a function runs when the function is called, not when it is specified or defined.<br>\n",
    "\n",
    "When we define a function in Python, we are essentially creating a reusable block of code with a specific name and set of instructions. The function definition specifies what the function does, but it does not execute the code within the function.<br>\n",
    "\n",
    "To execute the code within a function, we need to call the function by using its name followed by parentheses. When the function is called, the flow of execution jumps to the function's definition, and the code inside the function is executed in the order it appears.<br>"
   ]
  },
  {
   "cell_type": "markdown",
   "metadata": {},
   "source": [
    "3. What statement creates a function?"
   ]
  },
  {
   "cell_type": "markdown",
   "metadata": {},
   "source": [
    " The def statement is used to create a function. The def statement is followed by the function name, a pair of parentheses, and a colon. The body of the function, which consists of the code that defines the function's behavior, is indented beneath the def statement."
   ]
  },
  {
   "cell_type": "code",
   "execution_count": 1,
   "metadata": {},
   "outputs": [
    {
     "data": {
      "text/plain": [
       "6"
      ]
     },
     "execution_count": 1,
     "metadata": {},
     "output_type": "execute_result"
    }
   ],
   "source": [
    "#EX\n",
    "def add_numbers(a, b):\n",
    "    sum = a + b\n",
    "    return sum\n",
    "\n",
    "\n",
    "add_numbers(5,1)"
   ]
  },
  {
   "cell_type": "markdown",
   "metadata": {},
   "source": [
    "4. What is the difference between a function and a function call?"
   ]
  },
  {
   "cell_type": "markdown",
   "metadata": {},
   "source": [
    "A <b>function</b> is a named block of code that performs a specific task or operation. It is defined using the def statement .\n",
    "The code within the function is not executed until the function is called. Functions are used to encapsulate a set of instructions and provide modularity, code reusability, and abstraction.\n",
    "\n"
   ]
  },
  {
   "cell_type": "code",
   "execution_count": 2,
   "metadata": {},
   "outputs": [],
   "source": [
    "#EX :\n",
    "def greet():\n",
    "    print(\"Hello, World!\")\n"
   ]
  },
  {
   "cell_type": "markdown",
   "metadata": {},
   "source": [
    "<b>Function Call:</b> A function call is the actual execution of a function. It involves using the function name followed by parentheses to invoke or trigger the execution of the function's code. When a function call is encountered, the program flow jumps to the function's definition, executes the code within the function's body, and then returns to the point of the function call in the program."
   ]
  },
  {
   "cell_type": "code",
   "execution_count": 3,
   "metadata": {},
   "outputs": [
    {
     "name": "stdout",
     "output_type": "stream",
     "text": [
      "Hello, World!\n"
     ]
    }
   ],
   "source": [
    "#EX\n",
    "\n",
    "greet() # Calling the above function"
   ]
  },
  {
   "cell_type": "markdown",
   "metadata": {},
   "source": [
    "5. How many global scopes are there in a Python program? How many local scopes?"
   ]
  },
  {
   "cell_type": "markdown",
   "metadata": {},
   "source": [
    "<b>In a Python program, there is typically one global scope and multiple local scopes.</b>\n",
    "\n",
    "Global Scope: The global scope refers to the outermost level of a Python program. It is the scope in which global variables and functions are defined. The global scope is accessible throughout the entire program, including all functions and sub-blocks within the program. Variables defined in the global scope can be accessed from anywhere in the program.\n",
    "Example of a global variable and function:"
   ]
  },
  {
   "cell_type": "code",
   "execution_count": 4,
   "metadata": {},
   "outputs": [
    {
     "name": "stdout",
     "output_type": "stream",
     "text": [
      "10\n",
      "This is a global function\n"
     ]
    }
   ],
   "source": [
    "global_var = 10\n",
    "\n",
    "def global_function():\n",
    "    print(\"This is a global function\")\n",
    "\n",
    "print(global_var)       # Output: 10\n",
    "global_function()       # Output: This is a global function\n"
   ]
  },
  {
   "cell_type": "markdown",
   "metadata": {},
   "source": [
    "Local Scope: Local scopes are created when functions or other code blocks are defined. Each function or code block creates its own local scope. Local variables and parameters declared within a function or code block are only accessible within that specific scope. They are created when the function or code block is called or executed and are destroyed when the function or code block exits."
   ]
  },
  {
   "cell_type": "markdown",
   "metadata": {},
   "source": [
    "6. What happens to variables in a local scope when the function call returns?"
   ]
  },
  {
   "cell_type": "markdown",
   "metadata": {},
   "source": [
    "When a function call returns in Python, the local variables within that function's scope are destroyed or deallocated. This means that the variables and their values within the local scope are no longer accessible or available for use once the function call completes.\n",
    "\n",
    "When a function is called, a new local scope is created for that specific function call. This local scope includes the function's parameters and any local variables defined within the function. These variables exist only within the context of the function call.\n",
    "\n",
    "Once the function call returns, the local scope is destroyed, and the local variables within that scope are no longer accessible. The memory allocated to store the local variables is freed, and the values held by those variables are no longer available to the rest of the program."
   ]
  },
  {
   "cell_type": "code",
   "execution_count": 6,
   "metadata": {},
   "outputs": [
    {
     "name": "stdout",
     "output_type": "stream",
     "text": [
      "Hello, World!\n"
     ]
    },
    {
     "ename": "NameError",
     "evalue": "name 'local_variable' is not defined",
     "output_type": "error",
     "traceback": [
      "\u001b[1;31m---------------------------------------------------------------------------\u001b[0m",
      "\u001b[1;31mNameError\u001b[0m                                 Traceback (most recent call last)",
      "\u001b[1;32m<ipython-input-6-ebf5ffb5561b>\u001b[0m in \u001b[0;36m<module>\u001b[1;34m\u001b[0m\n\u001b[0;32m      5\u001b[0m \u001b[1;33m\u001b[0m\u001b[0m\n\u001b[0;32m      6\u001b[0m \u001b[0mexample_function\u001b[0m\u001b[1;33m(\u001b[0m\u001b[1;33m)\u001b[0m      \u001b[1;31m# Output: Hello, World!\u001b[0m\u001b[1;33m\u001b[0m\u001b[1;33m\u001b[0m\u001b[0m\n\u001b[1;32m----> 7\u001b[1;33m \u001b[0mprint\u001b[0m\u001b[1;33m(\u001b[0m\u001b[0mlocal_variable\u001b[0m\u001b[1;33m)\u001b[0m   \u001b[1;31m# Raises NameError: name 'local_variable' is not defined\u001b[0m\u001b[1;33m\u001b[0m\u001b[1;33m\u001b[0m\u001b[0m\n\u001b[0m",
      "\u001b[1;31mNameError\u001b[0m: name 'local_variable' is not defined"
     ]
    }
   ],
   "source": [
    "#ex\n",
    "def example_function():\n",
    "    local_variable = \"Hello, World!\"\n",
    "    print(local_variable)\n",
    "\n",
    "example_function()      # Output: Hello, World!\n",
    "print(local_variable)   # Raises NameError: name 'local_variable' is not defined\n"
   ]
  },
  {
   "cell_type": "markdown",
   "metadata": {},
   "source": [
    "7. What is the concept of a return value? Is it possible to have a return value in an expression?"
   ]
  },
  {
   "cell_type": "markdown",
   "metadata": {},
   "source": [
    "The concept of a return value refers to the value that a function sends back to the caller after its execution. When a function is called, it may perform certain operations and computations and optionally produce a result that can be used by the caller or other parts of the program.\n",
    "\n",
    "Yes, it is possible to have a return value in an expression. The return value of a function can be used directly within an expression or passed as an argument to another function. This allows to chain function calls and use the returned values in further computations."
   ]
  },
  {
   "cell_type": "code",
   "execution_count": 7,
   "metadata": {},
   "outputs": [
    {
     "name": "stdout",
     "output_type": "stream",
     "text": [
      "8\n"
     ]
    }
   ],
   "source": [
    "#ex\n",
    "\n",
    "def add_numbers(a, b):\n",
    "    sum = a + b\n",
    "    return sum\n",
    "\n",
    "result = add_numbers(3, 5)\n",
    "print(result)  # Output: 8\n",
    "\n",
    "\n",
    "\n"
   ]
  },
  {
   "cell_type": "code",
   "execution_count": 8,
   "metadata": {},
   "outputs": [
    {
     "name": "stdout",
     "output_type": "stream",
     "text": [
      "25\n"
     ]
    }
   ],
   "source": [
    "#ex\n",
    "\n",
    "def square(x):\n",
    "    return x * x\n",
    "\n",
    "result = square(3) + square(4)\n",
    "print(result)  # Output: 25\n"
   ]
  },
  {
   "cell_type": "markdown",
   "metadata": {},
   "source": [
    "8. If a function does not have a return statement, what is the return value of a call to that function?"
   ]
  },
  {
   "cell_type": "markdown",
   "metadata": {},
   "source": [
    "If a function does not have a return statement, the return value of a call to that function is None. In Python, None is a special value that represents the absence of a value or the lack of a specific return value.\n",
    "\n",
    "When a function is executed and reaches the end without encountering a return statement, or if the return statement is present without any value, the function implicitly returns None. This indicates that the function does not produce a specific result or value to be used by the caller."
   ]
  },
  {
   "cell_type": "code",
   "execution_count": 9,
   "metadata": {},
   "outputs": [
    {
     "name": "stdout",
     "output_type": "stream",
     "text": [
      "Hello, World!\n",
      "None\n"
     ]
    }
   ],
   "source": [
    "def greet():\n",
    "    print(\"Hello, World!\")\n",
    "\n",
    "result = greet()\n",
    "print(result)  # Output: None\n"
   ]
  },
  {
   "cell_type": "markdown",
   "metadata": {},
   "source": [
    "9. How do you make a function variable refer to the global variable?"
   ]
  },
  {
   "cell_type": "markdown",
   "metadata": {},
   "source": [
    "To make a function variable refer to the global variable, we can use the global keyword within the function. The global keyword allows we to indicate that a variable, defined within the function, should refer to the global variable with the same name instead of creating a new local variable."
   ]
  },
  {
   "cell_type": "markdown",
   "metadata": {},
   "source": [
    "10. What is the data type of None?"
   ]
  },
  {
   "cell_type": "markdown",
   "metadata": {},
   "source": [
    "In Python, the data type of None is called NoneType. NoneType represents the absence of a value or the lack of a specific object. It is a built-in type that has only one possible value, which is None."
   ]
  },
  {
   "cell_type": "markdown",
   "metadata": {},
   "source": [
    "11. What does the sentence import areallyourpetsnamederic do?"
   ]
  },
  {
   "cell_type": "markdown",
   "metadata": {},
   "source": [
    "It is not a valid python package or library , so it would raise a ModuleNotFoundError ."
   ]
  },
  {
   "cell_type": "markdown",
   "metadata": {},
   "source": [
    "12. If you had a bacon() feature in a spam module, what would you call it after importing spam?"
   ]
  },
  {
   "cell_type": "markdown",
   "metadata": {},
   "source": [
    "import spam\n",
    "\n",
    "beacon.spam()\n",
    "\n",
    "\n",
    "or  \n",
    "\n",
    "from spam import beacon"
   ]
  },
  {
   "cell_type": "markdown",
   "metadata": {},
   "source": [
    "13. What can you do to save a programme from crashing if it encounters an error?"
   ]
  },
  {
   "cell_type": "markdown",
   "metadata": {},
   "source": [
    "1)Using try: and except: clause.<br>\n",
    "2)By using the logging module, we can log error messages, stack traces, and other relevant information to a file or console. <br>"
   ]
  },
  {
   "cell_type": "markdown",
   "metadata": {},
   "source": [
    "14. What is the purpose of the try clause? What is the purpose of the except clause?"
   ]
  },
  {
   "cell_type": "markdown",
   "metadata": {},
   "source": [
    "The purpose of the try clause in Python is to enclose a block of code that might raise an exception or encounter an error. The code within the try block is executed, and if an exception occurs during its execution, the program flow is immediately transferred to the corresponding except clause.\n",
    "\n",
    "The try clause allows us to handle potential errors or exceptional situations gracefully, providing a mechanism to recover from unexpected situations and prevent the program from crashing.\n",
    "\n",
    "The purpose of the except clause is to define the code that should be executed when a specific exception occurs within the corresponding try block. By specifying the type of exception to catch in the except clause, we can define the specific actions or error handling procedures to be taken when that exception is encountered.\n",
    "\n",
    "If an exception occurs within the try block, the program flow jumps to the corresponding except block that matches the encountered exception type. The code within the except block is executed, allowing us to handle the exception, perform error recovery, log the error, display a friendly error message, or take alternative steps to continue program execution."
   ]
  },
  {
   "cell_type": "code",
   "execution_count": null,
   "metadata": {},
   "outputs": [],
   "source": []
  }
 ],
 "metadata": {
  "kernelspec": {
   "display_name": "Python 3",
   "language": "python",
   "name": "python3"
  },
  "language_info": {
   "codemirror_mode": {
    "name": "ipython",
    "version": 3
   },
   "file_extension": ".py",
   "mimetype": "text/x-python",
   "name": "python",
   "nbconvert_exporter": "python",
   "pygments_lexer": "ipython3",
   "version": "3.8.5"
  }
 },
 "nbformat": 4,
 "nbformat_minor": 4
}
