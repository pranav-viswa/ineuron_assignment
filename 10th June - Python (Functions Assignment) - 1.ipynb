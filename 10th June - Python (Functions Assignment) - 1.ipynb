{
 "cells": [
  {
   "cell_type": "markdown",
   "metadata": {},
   "source": [
    "1. In Python, what is the difference between a built-in function and a user-defined function? Provide an\n",
    "example of each."
   ]
  },
  {
   "cell_type": "markdown",
   "metadata": {},
   "source": [
    "<b>Built-in Function:</b><br>\n",
    "\n",
    "Built-in functions are pre-defined functions that are included in the Python language. They are readily available for use without requiring any additional coding or importing of external libraries.<br>\n",
    "These functions are built into the Python interpreter and cover a wide range of functionalities such as string manipulation, mathematical operations, file handling, and more.<br>\n",
    "Built-in functions are already defined and optimized for performance by the Python developers.\n",
    "Examples of built-in functions include print(), len(), max(), min(), sum(), type(), range(), and abs()."
   ]
  },
  {
   "cell_type": "code",
   "execution_count": 1,
   "metadata": {},
   "outputs": [
    {
     "data": {
      "text/plain": [
       "12.33"
      ]
     },
     "execution_count": 1,
     "metadata": {},
     "output_type": "execute_result"
    }
   ],
   "source": [
    "#Example :\n",
    "abs(-12.33)"
   ]
  },
  {
   "cell_type": "markdown",
   "metadata": {},
   "source": [
    "<b>User-defined Function:</b><br>\n",
    "\n",
    "User-defined functions are created by the users or developers to fulfill specific tasks that are not covered by built-in functions.<br>\n",
    "These functions are defined by the users themselves, allowing them to encapsulate a set of instructions that can be reused multiple times within a program.<br>\n",
    "User-defined functions can be created using the def keyword, followed by the function name, parentheses for parameters (if any), and a colon to denote the start of the function block.<br>\n",
    "Examples of user-defined functions include functions to calculate the area of a circle, sort a list, validate user input, or perform custom data processing.<br>\n"
   ]
  },
  {
   "cell_type": "code",
   "execution_count": 2,
   "metadata": {},
   "outputs": [
    {
     "name": "stdout",
     "output_type": "stream",
     "text": [
      "25\n"
     ]
    }
   ],
   "source": [
    "#example:\n",
    "def square(number):\n",
    "    return number ** 2\n",
    "\n",
    "result = square(5)\n",
    "print(result)  # Output: 25\n"
   ]
  },
  {
   "cell_type": "markdown",
   "metadata": {},
   "source": [
    "2.How can you pass arguments to a function in Python? Explain the difference between positional\n",
    "arguments and keyword arguments."
   ]
  },
  {
   "cell_type": "markdown",
   "metadata": {},
   "source": [
    "In Python, there are two ways to pass arguments to a function: positional arguments and keyword arguments.<br>\n",
    "\n",
    "Positional Arguments:<br>\n",
    "\n",
    "Positional arguments are the most common way to pass arguments to a function in Python.<br>\n",
    "\n",
    "When you call a function and pass arguments without specifying their names, the arguments are matched based on their positions in the function call.<br>\n",
    "\n",
    "The order in which the arguments are passed must match the order in which the parameters are defined in the function.<br>\n",
    "\n",
    "\n"
   ]
  },
  {
   "cell_type": "code",
   "execution_count": 3,
   "metadata": {},
   "outputs": [
    {
     "name": "stdout",
     "output_type": "stream",
     "text": [
      "Hello, Alice! You are 25 years old.\n"
     ]
    }
   ],
   "source": [
    "#example :\n",
    "def greet(name, age):\n",
    "    print(\"Hello, \" + name + \"! You are \" + str(age) + \" years old.\")\n",
    "\n",
    "greet(\"Alice\", 25)  # Output: Hello, Alice! You are 25 years old.\n"
   ]
  },
  {
   "cell_type": "markdown",
   "metadata": {},
   "source": [
    "Keyword Arguments:<br>\n",
    "\n",
    "Keyword arguments allow you to pass arguments to a function by explicitly specifying the parameter names in the function call.<br>\n",
    "\n",
    "When using keyword arguments, the order of the arguments doesn't matter as long as you provide the parameter names.<br><br>\n",
    "\n",
    "Keyword arguments are useful when you want to pass only a subset of the arguments or when the order of the arguments is not apparent.<br>"
   ]
  },
  {
   "cell_type": "code",
   "execution_count": 4,
   "metadata": {},
   "outputs": [
    {
     "name": "stdout",
     "output_type": "stream",
     "text": [
      "Hello, Alice! You are 25 years old.\n"
     ]
    }
   ],
   "source": [
    "def greet(name, age):\n",
    "    print(\"Hello, \" + name + \"! You are \" + str(age) + \" years old.\")\n",
    "\n",
    "greet(age=25, name=\"Alice\")  # Output: Hello, Alice! You are 25 years old.\n"
   ]
  },
  {
   "cell_type": "markdown",
   "metadata": {},
   "source": [
    "3. What is the purpose of the return statement in a function? Can a function have multiple return\n",
    "statements? Explain with an example."
   ]
  },
  {
   "cell_type": "markdown",
   "metadata": {},
   "source": [
    "The purpose of the return statement in a function is to specify the value that the function should produce or send back as its result. It allows a function to compute a value or perform a task and then provide the result of that computation or task to the code that called the function.<br>\n",
    "\n",
    "The return statement accomplishes two main things:<br>\n",
    "\n",
    "It immediately terminates the execution of the function, exiting the function's block of code.\n",
    "It sends the specified value back to the caller, allowing the caller to capture and use the returned value.<br>\n",
    "A function can have multiple return statements. When a return statement is encountered in a function, the function execution stops, and the specified value is returned. Therefore, if a function has multiple return statements, only one of them will be executed during a single function call.<br>\n",
    "\n",
    "Here's an example to illustrate the use of return statements in a function:<br>"
   ]
  },
  {
   "cell_type": "code",
   "execution_count": 5,
   "metadata": {},
   "outputs": [
    {
     "name": "stdout",
     "output_type": "stream",
     "text": [
      "High\n"
     ]
    }
   ],
   "source": [
    "def find_average(numbers):\n",
    "    if len(numbers) == 0:\n",
    "        return None  # Return None if the list is empty\n",
    "\n",
    "    total = sum(numbers)\n",
    "    average = total / len(numbers)\n",
    "\n",
    "    if average > 10:\n",
    "        return \"High\"  # Return \"High\" if the average is greater than 10\n",
    "    else:\n",
    "        return \"Low\"  # Return \"Low\" if the average is less than or equal to 10\n",
    "\n",
    "numbers_list = [5, 10, 15, 20]\n",
    "result = find_average(numbers_list)\n",
    "print(result)  # Output: High\n"
   ]
  },
  {
   "cell_type": "markdown",
   "metadata": {},
   "source": [
    "In this code, the function find_average() takes a list of numbers as input. It calculates the average of the numbers and returns a result based on the calculated average.<br> If the list is empty, it returns None. If the average is greater than 10, it returns \"High\". Otherwise, it returns \"Low\".<br>\n",
    "\n",
    "When the function is called with the numbers_list containing [5, 10, 15, 20], the average is calculated to be 12.5. Since 12.5 is greater than 10, the return statement \"High\" is executed, and the value \"High\" is assigned to the result variable.<br> Finally, the value of result is printed, resulting in the output \"High\".\n",
    "\n",
    "\n",
    "\n",
    "\n",
    "\n"
   ]
  },
  {
   "cell_type": "markdown",
   "metadata": {},
   "source": [
    "4. What are lambda functions in Python? How are they different from regular functions? Provide an\n",
    "example where a lambda function can be useful."
   ]
  },
  {
   "cell_type": "markdown",
   "metadata": {},
   "source": [
    "Lambda functions, also known as anonymous functions, are small, single-expression functions in Python that don't require a formal definition using the def keyword. They are typically used for simple and concise tasks and are defined using the lambda keyword.<br>\n",
    "\n",
    "Here are some key characteristics of lambda functions and how they differ from regular functions:<br>\n",
    "\n",
    "Syntax: The syntax for a lambda function is lambda arguments: expression. It consists of a parameter list, followed by a colon and an expression that is evaluated and returned as the result of the function.<br>\n",
    "\n",
    "Anonymous: Lambda functions are anonymous, meaning they don't have a name. They are defined on the spot and are often used where a function is required for a short duration without the need for a formal definition.<br>\n",
    "\n",
    "Single Expression: Lambda functions are restricted to a single expression. They can't contain multiple statements or have complex logic like regular functions.<br>\n",
    "\n",
    "Conciseness: Lambda functions provide a concise way to define simple functions without the need for a full function definition. They are commonly used in scenarios where a function is required as an argument to another function or for tasks that involve simple data transformations.<br>"
   ]
  },
  {
   "cell_type": "code",
   "execution_count": 6,
   "metadata": {},
   "outputs": [
    {
     "name": "stdout",
     "output_type": "stream",
     "text": [
      "25\n"
     ]
    }
   ],
   "source": [
    "# Create a lambda function to calculate the square of a number\n",
    "square = lambda x: x ** 2\n",
    "\n",
    "# Call the lambda function\n",
    "result = square(5)\n",
    "print(result)  # Output: 25\n"
   ]
  },
  {
   "cell_type": "markdown",
   "metadata": {},
   "source": [
    "5. How does the concept of \"scope\" apply to functions in Python? Explain the difference between local\n",
    "scope and global scope."
   ]
  },
  {
   "cell_type": "markdown",
   "metadata": {},
   "source": [
    "Local Scope:<br>\n",
    "\n",
    "Local scope refers to the region within a function where variables are defined.<br>\n",
    "\n",
    "Variables defined within a function are considered local to that function and can only be accessed within that function.<br>\n",
    "\n",
    "Local variables have a limited lifespan and are created when the function is called and destroyed when the function completes execution.<br>\n",
    "\n",
    "Other functions or code outside the function cannot access local variables defined within the function.<br>"
   ]
  },
  {
   "cell_type": "code",
   "execution_count": 7,
   "metadata": {},
   "outputs": [
    {
     "name": "stdout",
     "output_type": "stream",
     "text": [
      "10\n"
     ]
    },
    {
     "ename": "NameError",
     "evalue": "name 'x' is not defined",
     "output_type": "error",
     "traceback": [
      "\u001b[1;31m---------------------------------------------------------------------------\u001b[0m",
      "\u001b[1;31mNameError\u001b[0m                                 Traceback (most recent call last)",
      "\u001b[1;32m<ipython-input-7-6ddb97ce47da>\u001b[0m in \u001b[0;36m<module>\u001b[1;34m\u001b[0m\n\u001b[0;32m      4\u001b[0m \u001b[1;33m\u001b[0m\u001b[0m\n\u001b[0;32m      5\u001b[0m \u001b[0mmy_function\u001b[0m\u001b[1;33m(\u001b[0m\u001b[1;33m)\u001b[0m  \u001b[1;31m# Output: 10\u001b[0m\u001b[1;33m\u001b[0m\u001b[1;33m\u001b[0m\u001b[0m\n\u001b[1;32m----> 6\u001b[1;33m \u001b[0mprint\u001b[0m\u001b[1;33m(\u001b[0m\u001b[0mx\u001b[0m\u001b[1;33m)\u001b[0m  \u001b[1;31m# Error: NameError: name 'x' is not defined\u001b[0m\u001b[1;33m\u001b[0m\u001b[1;33m\u001b[0m\u001b[0m\n\u001b[0m",
      "\u001b[1;31mNameError\u001b[0m: name 'x' is not defined"
     ]
    }
   ],
   "source": [
    "def my_function():\n",
    "    x = 10  # Local variable\n",
    "    print(x)\n",
    "\n",
    "my_function()  # Output: 10\n",
    "print(x)  # Error: NameError: name 'x' is not defined\n"
   ]
  },
  {
   "cell_type": "markdown",
   "metadata": {},
   "source": [
    "Global Scope:<br>\n",
    "\n",
    "Global scope refers to the outermost level of a Python program or module.<br>\n",
    "\n",
    "Variables defined outside of any function or in the global scope are considered global variables.<br>\n",
    "\n",
    "Global variables can be accessed from any part of the program, including inside functions.<br>\n",
    "\n",
    "Global variables have a longer lifespan and are created when the program starts and destroyed when the program terminates.<br>\n",
    "\n",
    "However, modifying a global variable inside a function requires using the global keyword to explicitly indicate that the variable is global and not local.<br>"
   ]
  },
  {
   "cell_type": "code",
   "execution_count": 8,
   "metadata": {},
   "outputs": [
    {
     "name": "stdout",
     "output_type": "stream",
     "text": [
      "15\n",
      "15\n"
     ]
    }
   ],
   "source": [
    "x = 10  # Global variable\n",
    "\n",
    "def my_function():\n",
    "    global x\n",
    "    x += 5\n",
    "    print(x)\n",
    "\n",
    "my_function()  # Output: 15\n",
    "print(x)  # Output: 15\n"
   ]
  },
  {
   "cell_type": "markdown",
   "metadata": {},
   "source": [
    "6. How can you use the \"return\" statement in a Python function to return multiple values?"
   ]
  },
  {
   "cell_type": "code",
   "execution_count": 10,
   "metadata": {},
   "outputs": [
    {
     "name": "stdout",
     "output_type": "stream",
     "text": [
      "10\n",
      "20\n",
      "10\n",
      "20\n"
     ]
    }
   ],
   "source": [
    "#In Python, you can use the \"return\" statement in a function to return multiple values by \n",
    "#returning them as a tuple, list, or any other iterable object. Here's how you can achieve this:\n",
    "\n",
    "def get_values():\n",
    "    x = 10\n",
    "    y = 20\n",
    "    return x, y\n",
    "\n",
    "result = get_values()\n",
    "a, b = result\n",
    "print(a)  # Output: 10\n",
    "print(b)  # Output: 20\n",
    "\n",
    "\n",
    "\n",
    "\n",
    "def get_values():\n",
    "    x = 10\n",
    "    y = 20\n",
    "    return [x, y]\n",
    "\n",
    "result = get_values()\n",
    "a, b = result\n",
    "print(a)  # Output: 10\n",
    "print(b)  # Output: 20\n"
   ]
  },
  {
   "cell_type": "markdown",
   "metadata": {},
   "source": [
    "7. What is the difference between the \"pass by value\" and \"pass by reference\" concepts when it\n",
    "comes to function arguments in Python?"
   ]
  },
  {
   "cell_type": "markdown",
   "metadata": {},
   "source": [
    "Pass by Value:<br>\n",
    "\n",
    "In pass by value, a copy of the value of the variable is passed to the function as an argument.<br>\n",
    "\n",
    "\n",
    "Any changes made to the function parameter inside the function do not affect the original variable outside the function.<br>\n",
    "\n",
    "\n",
    "Python uses a variation of pass by value called \"pass by object reference\".<br>\n",
    "\n",
    "\n",
    "Immutable objects, such as numbers and strings, behave like pass by value in Python.<br>\n"
   ]
  },
  {
   "cell_type": "code",
   "execution_count": 11,
   "metadata": {},
   "outputs": [
    {
     "name": "stdout",
     "output_type": "stream",
     "text": [
      "Inside the function: 15\n",
      "Outside the function: 5\n"
     ]
    }
   ],
   "source": [
    "def modify_value(x):\n",
    "    x = x + 10\n",
    "    print(\"Inside the function:\", x)\n",
    "\n",
    "y = 5\n",
    "modify_value(y)\n",
    "print(\"Outside the function:\", y)\n"
   ]
  },
  {
   "cell_type": "markdown",
   "metadata": {},
   "source": [
    "Pass by Reference:<br>\n",
    "\n",
    "In pass by reference, the memory address of the variable is passed to the function as an argument.<br>\n",
    "\n",
    "Changes made to the function parameter inside the function will affect the original variable outside the function.<br>\n",
    "\n",
    "Mutable objects, such as lists and dictionaries, exhibit behavior similar to pass by reference in Python.<br>"
   ]
  },
  {
   "cell_type": "code",
   "execution_count": 12,
   "metadata": {},
   "outputs": [
    {
     "name": "stdout",
     "output_type": "stream",
     "text": [
      "Inside the function: [1, 2, 3, 4]\n",
      "Outside the function: [1, 2, 3, 4]\n"
     ]
    }
   ],
   "source": [
    "def modify_list(lst):\n",
    "    lst.append(4)\n",
    "    print(\"Inside the function:\", lst)\n",
    "\n",
    "my_list = [1, 2, 3]\n",
    "modify_list(my_list)\n",
    "print(\"Outside the function:\", my_list)\n"
   ]
  },
  {
   "cell_type": "markdown",
   "metadata": {},
   "source": [
    "8. Create a function that can intake integer or decimal value and do following operations:<br>\n",
    "a. Logarithmic function (log x)<br>\n",
    "b. Exponential function (exp(x))<br>\n",
    "c. Power function with base 2 (2**x)<br>\n",
    "d. Square root<br>"
   ]
  },
  {
   "cell_type": "code",
   "execution_count": 14,
   "metadata": {},
   "outputs": [
    {
     "name": "stdout",
     "output_type": "stream",
     "text": [
      "LOGARITHAMIC\n",
      "2.302585092994046\n",
      "EXPONENTIAL\n",
      "12.182493960703473\n",
      "LOG BASE 2\n",
      "4.0\n",
      "SQUARE ROOT\n",
      "4.0\n"
     ]
    }
   ],
   "source": [
    "#a.Logarithmic function (log x)\n",
    "import math\n",
    "\n",
    "def logarithm(x):\n",
    "    result = math.log(x)\n",
    "    return result\n",
    "\n",
    "# Test the function\n",
    "number = 10\n",
    "output = logarithm(number)\n",
    "print('LOGARITHAMIC')\n",
    "print(output)\n",
    "\n",
    "\n",
    "#b.Exponential function (exp(x))\n",
    "import math\n",
    "\n",
    "def exponential(x):\n",
    "    result = math.exp(x)\n",
    "    return result\n",
    "\n",
    "# Test the function\n",
    "number = 2.5\n",
    "output = exponential(number)\n",
    "print('EXPONENTIAL')\n",
    "print(output)\n",
    "\n",
    "\n",
    "#c.Power function with base 2 (2**x)\n",
    "import math\n",
    "\n",
    "def base_2(x):\n",
    "    result = math.log2(x)\n",
    "    return result\n",
    "\n",
    "# Test the function\n",
    "number = 16\n",
    "output = base_2(number)\n",
    "print('LOG BASE 2')\n",
    "print(output)\n",
    "\n",
    "\n",
    "#d.Square root\n",
    "import math\n",
    "\n",
    "def square_root(x):\n",
    "    result = math.sqrt(x)\n",
    "    return result\n",
    "\n",
    "# Test the function\n",
    "number = 16\n",
    "output = square_root(number)\n",
    "print('SQUARE ROOT')\n",
    "print(output)\n"
   ]
  },
  {
   "cell_type": "markdown",
   "metadata": {},
   "source": [
    "9. Create a function that takes a full name as an argument and returns first name and last name."
   ]
  },
  {
   "cell_type": "code",
   "execution_count": 15,
   "metadata": {},
   "outputs": [
    {
     "name": "stdout",
     "output_type": "stream",
     "text": [
      "First Name: John\n",
      "Last Name: Doe\n"
     ]
    }
   ],
   "source": [
    "def extract_name(full_name):\n",
    "    names = full_name.split()\n",
    "    first_name = names[0]\n",
    "    last_name = names[-1]\n",
    "    return first_name, last_name\n",
    "\n",
    "# Test the function\n",
    "name = \"John Doe\"\n",
    "first, last = extract_name(name)\n",
    "print(\"First Name:\", first)\n",
    "print(\"Last Name:\", last)\n"
   ]
  },
  {
   "cell_type": "code",
   "execution_count": null,
   "metadata": {},
   "outputs": [],
   "source": []
  }
 ],
 "metadata": {
  "kernelspec": {
   "display_name": "Python 3",
   "language": "python",
   "name": "python3"
  },
  "language_info": {
   "codemirror_mode": {
    "name": "ipython",
    "version": 3
   },
   "file_extension": ".py",
   "mimetype": "text/x-python",
   "name": "python",
   "nbconvert_exporter": "python",
   "pygments_lexer": "ipython3",
   "version": "3.8.5"
  }
 },
 "nbformat": 4,
 "nbformat_minor": 4
}
