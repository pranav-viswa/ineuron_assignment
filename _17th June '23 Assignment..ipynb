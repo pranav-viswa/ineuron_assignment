{
 "cells": [
  {
   "cell_type": "markdown",
   "metadata": {},
   "source": [
    "1. What is the role of try and exception block?"
   ]
  },
  {
   "cell_type": "markdown",
   "metadata": {},
   "source": [
    "The try and except blocks in Python are used to handle exceptions or errors that may occur during the execution of a program. Exceptions are raised when an unexpected situation or error occurs, and they can disrupt the normal flow of a program.<br>\n",
    "\n",
    "The primary role of the try and except blocks is to implement error handling and provide a mechanism to gracefully handle exceptions, preventing the program from terminating abruptly. When you enclose a block of code within a try block, you are instructing Python to monitor that specific section of code for potential exceptions.<br>"
   ]
  },
  {
   "cell_type": "markdown",
   "metadata": {},
   "source": [
    "2. What is the syntax for a basic try-except block?"
   ]
  },
  {
   "cell_type": "markdown",
   "metadata": {},
   "source": [
    "try:<br>\n",
    "    # Code that may raise an exception<br>\n",
    "    # ...<br>\n",
    "except SomeExceptionType:<br>\n",
    "    # Code to handle the exception<br>\n",
    "    # ...<br>\n"
   ]
  },
  {
   "cell_type": "markdown",
   "metadata": {},
   "source": [
    "try:\n",
    "    num = int(input(\"Enter a number: \"))\n",
    "    result = 10 / num\n",
    "    print(\"Result:\", result)\n",
    "except ZeroDivisionError:\n",
    "    print(\"Error: Cannot divide by zero.\")\n",
    "except ValueError:\n",
    "    print(\"Error: Invalid input. Please enter a valid number.\")\n"
   ]
  },
  {
   "cell_type": "markdown",
   "metadata": {},
   "source": [
    "3. What happens if an exception occurs inside a try block and there is no matching\n",
    "except block?"
   ]
  },
  {
   "cell_type": "markdown",
   "metadata": {},
   "source": [
    "If an exception occurs inside a try block and there is no matching except block to handle that specific exception type, the program will terminate abruptly, and an unhandled exception will be raised. Python will display an error message, known as a traceback, which provides information about the exception, the line number where it occurred, and the sequence of function calls that led to the exception.<br>\n",
    "\n",
    "The traceback will also indicate that there was no exception handler (no matching except block) for the raised exception, leading to the program's termination."
   ]
  },
  {
   "cell_type": "markdown",
   "metadata": {},
   "source": [
    "4. What is the difference between using a bare except block and specifying a specific\n",
    "exception type?"
   ]
  },
  {
   "cell_type": "markdown",
   "metadata": {},
   "source": [
    "Bare except block:\n",
    "A bare except block (also known as a generic except block) catches all exceptions that occur within the corresponding try block, regardless of the exception type. It can handle any type of exception, which means it will catch not only the expected exceptions but also unexpected and potentially critical errors.<br>\n",
    "Example of a bare except block:"
   ]
  },
  {
   "cell_type": "code",
   "execution_count": 7,
   "metadata": {},
   "outputs": [],
   "source": [
    "try:\n",
    "    # Code that may raise exceptions\n",
    "    pass\n",
    "    # ...\n",
    "except:\n",
    "    # Code to handle any exception (all exceptions)\n",
    "    pass\n",
    "    # ...\n"
   ]
  },
  {
   "cell_type": "markdown",
   "metadata": {},
   "source": [
    "Specific exception type:\n",
    "When you specify a specific exception type in the except block, it will only catch exceptions of that particular type and its subclasses. It allows you to handle specific types of exceptions more precisely and ignore other exceptions, making your error handling more focused and controlled.<br>\n",
    "\n",
    "Example of specifying a specific exception type:"
   ]
  },
  {
   "cell_type": "code",
   "execution_count": 8,
   "metadata": {},
   "outputs": [],
   "source": [
    "try:\n",
    "    # Code that may raise exceptions\n",
    "    pass\n",
    "    # ...\n",
    "except ValueError:\n",
    "    # Code to handle ValueError exceptions\n",
    "    pass\n",
    "    # ...\n"
   ]
  },
  {
   "cell_type": "markdown",
   "metadata": {},
   "source": [
    "5. Can you have nested try-except blocks in Python? If yes, then give an example."
   ]
  },
  {
   "cell_type": "markdown",
   "metadata": {},
   "source": [
    "Yes, you can have nested try-except blocks in Python. Nesting try-except blocks allows you to handle exceptions at different levels of granularity, providing more precise error handling for specific parts of your code while still catching broader exceptions at higher levels."
   ]
  },
  {
   "cell_type": "code",
   "execution_count": 9,
   "metadata": {},
   "outputs": [
    {
     "name": "stdout",
     "output_type": "stream",
     "text": [
      "Division Result: 5.0\n",
      "Error: Index out of range.\n",
      "Error: Cannot divide by zero.\n"
     ]
    }
   ],
   "source": [
    "def divide_numbers(a, b):\n",
    "    try:\n",
    "        result = a / b\n",
    "        print(\"Division Result:\", result)\n",
    "\n",
    "        try:\n",
    "            # Perform some other operation that may raise an exception\n",
    "            data = [1, 2, 3]\n",
    "            value = data[4]\n",
    "        except IndexError:\n",
    "            print(\"Error: Index out of range.\")\n",
    "\n",
    "    except ZeroDivisionError:\n",
    "        print(\"Error: Cannot divide by zero.\")\n",
    "\n",
    "divide_numbers(10, 2)\n",
    "divide_numbers(10, 0)\n"
   ]
  },
  {
   "cell_type": "markdown",
   "metadata": {},
   "source": [
    "6. Can we use multiple exception blocks, if yes then give an example."
   ]
  },
  {
   "cell_type": "markdown",
   "metadata": {},
   "source": [
    "Yes, we can use multiple except blocks in a try-except construct to handle different types of exceptions separately. Each except block can catch a specific exception type, providing targeted error handling for different scenarios."
   ]
  },
  {
   "cell_type": "code",
   "execution_count": 10,
   "metadata": {},
   "outputs": [
    {
     "name": "stdout",
     "output_type": "stream",
     "text": [
      "Division Result: 5.0\n",
      "Error: Index out of range.\n",
      "Error: Cannot divide by zero.\n"
     ]
    }
   ],
   "source": [
    "def divide_numbers(a, b):\n",
    "    try:\n",
    "        result = a / b\n",
    "        print(\"Division Result:\", result)\n",
    "\n",
    "        # Perform some other operation that may raise an exception\n",
    "        data = [1, 2, 3]\n",
    "        value = data[4]\n",
    "\n",
    "    except ZeroDivisionError:\n",
    "        print(\"Error: Cannot divide by zero.\")\n",
    "    \n",
    "    except IndexError:\n",
    "        print(\"Error: Index out of range.\")\n",
    "\n",
    "divide_numbers(10, 2)\n",
    "divide_numbers(10, 0)\n"
   ]
  },
  {
   "cell_type": "markdown",
   "metadata": {},
   "source": [
    "7. Write the reason due to which following errors are raised:<br>\n",
    "a. EOFError<br>\n",
    "b. FloatingPointError<br>\n",
    "c. IndexError<br>\n",
    "d. MemoryError<br>\n",
    "e. OverflowError<br>\n",
    "f. TabError<br>\n",
    "g. ValueError<br>"
   ]
  },
  {
   "cell_type": "markdown",
   "metadata": {},
   "source": [
    "a. EOFError:<br>\n",
    "The EOFError (End-of-File Error) is raised when an input function (input(), raw_input(), or file.readline()) reaches the end of a file, and there is no more data to read, but the function is still expecting input.<br>\n",
    "\n",
    "b. FloatingPointError:<br>\n",
    "The FloatingPointError is raised when a floating-point arithmetic operation (e.g., division or square root) results in an exception, usually due to a mathematical error, such as dividing by zero or trying to calculate the square root of a negative number.<br>\n",
    "\n",
    "c. IndexError:<br>\n",
    "The IndexError is raised when an invalid index is used to access an element in a sequence (e.g., list, tuple, or string). It occurs when trying to access an index that is outside the valid range of the sequence.<br>\n",
    "\n",
    "d. MemoryError:<br>\n",
    "The MemoryError is raised when a Python program runs out of available memory. This occurs when the program tries to allocate more memory than the system can provide, resulting in a memory allocation failure.<br>\n",
    "\n",
    "e. OverflowError:<br>\n",
    "The OverflowError is raised when a mathematical operation results in a value that is too large to be represented. For example, it can happen when performing calculations with extremely large integers or floating-point numbers.<br>\n",
    "\n",
    "f. TabError:<br>\n",
    "The TabError is raised when there is an indentation error due to mixing tabs and spaces in the indentation of a Python code block. Python relies on consistent indentation to determine the block structure, and mixing tabs and spaces can lead to this error.<br>\n",
    "\n",
    "g. ValueError:<br>\n",
    "The ValueError is raised when a function receives an argument of the correct data type but with an inappropriate value. It can occur when, for example, trying to convert a string to an integer, but the string does not represent a valid integer.<br>\n",
    "\n"
   ]
  },
  {
   "cell_type": "markdown",
   "metadata": {},
   "source": [
    "8. Write code for the following given scenario and add try-exception block to it.<br>\n",
    "a. Program to divide two numbers<br>\n",
    "b. Program to convert a string to an integer<br>\n",
    "c. Program to access an element in a list<br>\n",
    "d. Program to handle a specific exception<br>\n",
    "e. Program to handle any exception<br>"
   ]
  },
  {
   "cell_type": "code",
   "execution_count": 11,
   "metadata": {},
   "outputs": [
    {
     "name": "stdout",
     "output_type": "stream",
     "text": [
      "Division Result: 5.0\n",
      "Error: Cannot divide by zero.\n"
     ]
    }
   ],
   "source": [
    "#a.Program to divide two numbers\n",
    "\n",
    "def divide_numbers(a, b):\n",
    "    try:\n",
    "        result = a / b\n",
    "        print(\"Division Result:\", result)\n",
    "    except ZeroDivisionError:\n",
    "        print(\"Error: Cannot divide by zero.\")\n",
    "\n",
    "# Test the function\n",
    "divide_numbers(10, 2)\n",
    "divide_numbers(10, 0)\n"
   ]
  },
  {
   "cell_type": "code",
   "execution_count": 12,
   "metadata": {},
   "outputs": [
    {
     "name": "stdout",
     "output_type": "stream",
     "text": [
      "Integer value: 123\n",
      "Error: Invalid input. Please enter a valid integer.\n"
     ]
    }
   ],
   "source": [
    "#b. Program to convert a string to an integer\n",
    "\n",
    "def convert_to_integer(s):\n",
    "    try:\n",
    "        num = int(s)\n",
    "        print(\"Integer value:\", num)\n",
    "    except ValueError:\n",
    "        print(\"Error: Invalid input. Please enter a valid integer.\")\n",
    "\n",
    "# Test the function\n",
    "convert_to_integer(\"123\")\n",
    "convert_to_integer(\"hello\")\n"
   ]
  },
  {
   "cell_type": "code",
   "execution_count": 13,
   "metadata": {},
   "outputs": [
    {
     "name": "stdout",
     "output_type": "stream",
     "text": [
      "Value at index 2 : 3\n",
      "Error: Index out of range.\n"
     ]
    }
   ],
   "source": [
    "#c. Program to access an element in a list\n",
    "\n",
    "def access_list_element(lst, index):\n",
    "    try:\n",
    "        value = lst[index]\n",
    "        print(\"Value at index\", index, \":\", value)\n",
    "    except IndexError:\n",
    "        print(\"Error: Index out of range.\")\n",
    "\n",
    "# Test the function\n",
    "my_list = [1, 2, 3, 4, 5]\n",
    "access_list_element(my_list, 2)\n",
    "access_list_element(my_list, 10)\n"
   ]
  },
  {
   "cell_type": "code",
   "execution_count": 14,
   "metadata": {},
   "outputs": [
    {
     "name": "stdout",
     "output_type": "stream",
     "text": [
      "Error: Unable to convert the string to an integer.\n"
     ]
    }
   ],
   "source": [
    "\n",
    "\n",
    "def handle_specific_exception():\n",
    "    try:\n",
    "        # Some code that may raise a specific exception\n",
    "        num = int(\"hello\")\n",
    "        print(\"Number:\", num)\n",
    "    except ValueError:\n",
    "        print(\"Error: Unable to convert the string to an integer.\")\n",
    "\n",
    "# Test the function\n",
    "handle_specific_exception()\n"
   ]
  },
  {
   "cell_type": "code",
   "execution_count": 15,
   "metadata": {},
   "outputs": [
    {
     "name": "stdout",
     "output_type": "stream",
     "text": [
      "An error occurred: division by zero\n"
     ]
    }
   ],
   "source": [
    "def handle_any_exception():\n",
    "    try:\n",
    "        # Some code that may raise any exception\n",
    "        num = 10 / 0\n",
    "        print(\"Result:\", num)\n",
    "    except Exception as e:\n",
    "        print(\"An error occurred:\", str(e))\n",
    "\n",
    "# Test the function\n",
    "handle_any_exception()\n"
   ]
  },
  {
   "cell_type": "code",
   "execution_count": null,
   "metadata": {},
   "outputs": [],
   "source": []
  }
 ],
 "metadata": {
  "kernelspec": {
   "display_name": "Python 3",
   "language": "python",
   "name": "python3"
  },
  "language_info": {
   "codemirror_mode": {
    "name": "ipython",
    "version": 3
   },
   "file_extension": ".py",
   "mimetype": "text/x-python",
   "name": "python",
   "nbconvert_exporter": "python",
   "pygments_lexer": "ipython3",
   "version": "3.8.5"
  }
 },
 "nbformat": 4,
 "nbformat_minor": 4
}
