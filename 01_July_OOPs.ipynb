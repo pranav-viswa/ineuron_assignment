{
 "cells": [
  {
   "cell_type": "markdown",
   "metadata": {},
   "source": [
    "<center>01_July_OOPs</center>"
   ]
  },
  {
   "cell_type": "markdown",
   "metadata": {},
   "source": [
    "1. What is the primary goal of Object-Oriented Programming (OOP)?"
   ]
  },
  {
   "cell_type": "markdown",
   "metadata": {},
   "source": [
    "The primary goal of Object-Oriented Programming (OOP) in Python, as well as in other programming languages, is to provide a<br> structured and modular approach to designing and organizing code. OOP focuses on creating objects that encapsulate data and the methods (functions) that operate on that data.<br>\n",
    "\n",
    "The key principles of OOP include:<br>\n",
    "\n",
    "Encapsulation: OOP allows you to bundle data and functions together into objects. Objects encapsulate data and provide methods to interact with and manipulate that data. This helps in achieving data abstraction and information hiding, making code more modular and easier to understand.<br>\n",
    "\n",
    "Inheritance: OOP supports the concept of inheritance, where new classes can be derived from existing classes. Inheritance enables code reuse by allowing new classes to inherit the properties and behaviors of their parent classes. It promotes code organization, reduces duplication, and facilitates easier maintenance and extension of code.<br>\n",
    "\n",
    "Polymorphism: OOP allows objects of different classes to be treated interchangeably, providing a way to use a single interface to represent different types of objects. Polymorphism allows flexibility and extensibility in code by enabling the use of generic programming techniques and facilitating the creation of code that can handle a variety of object types.<br>\n",
    "\n",
    "Abstraction: OOP encourages the use of abstract classes and interfaces to define common behavior and properties that subclasses can inherit. Abstraction allows programmers to focus on essential details while hiding unnecessary complexity. It helps in creating modular, maintainable, and loosely coupled code.<br>\n",
    "\n",
    "By leveraging these principles, OOP in Python promotes code reusability, modularity, and maintainability. It enables the creation of well-structured programs that are easier to understand, extend, and debug. OOP is particularly useful for building complex applications and systems where code organization and structure are crucial.<br>\n",
    "\n",
    "\n",
    "\n",
    "\n"
   ]
  },
  {
   "cell_type": "markdown",
   "metadata": {},
   "source": [
    "2.What is an object in Python?"
   ]
  },
  {
   "cell_type": "markdown",
   "metadata": {},
   "source": [
    "In Python, an object is an instance of a class.<br>\n",
    "\n",
    "EX:<br>\n",
    "\n",
    "c=Car() <br>\n",
    "Here c is the object of class Car<br>"
   ]
  },
  {
   "cell_type": "markdown",
   "metadata": {},
   "source": [
    "3.What is a class in Python?"
   ]
  },
  {
   "cell_type": "markdown",
   "metadata": {},
   "source": [
    " A class is a blueprint or template that defines the structure and behavior of objects.\n",
    " \n",
    " "
   ]
  },
  {
   "cell_type": "code",
   "execution_count": 3,
   "metadata": {},
   "outputs": [],
   "source": [
    "#Ex:\n",
    " \n",
    "class Animal:\n",
    "    def __init__ (self,name):\n",
    "        self.name=name\n",
    " "
   ]
  },
  {
   "cell_type": "markdown",
   "metadata": {},
   "source": [
    "4. What are attributes and methods in a class?"
   ]
  },
  {
   "cell_type": "markdown",
   "metadata": {},
   "source": [
    "Attributes: These are the properties or data associated with an object. Attributes can be variables that store values or other objects. Each object has its own set of attributes that define its state.<br>\n",
    "\n",
    "Methods: These are functions that are associated with an object and can perform operations or manipulate the object's data. Methods are defined within the class and can access and modify the object's attributes. They represent the behavior of the object.<br>\n",
    "\n",
    "For example, consider a class called \"Car\" that represents a car object. The class may have attributes such as \"color\", \"model\", and \"year\" to represent the car's characteristics. It may also have methods like \"start_engine()\", \"accelerate()\", and \"brake()\" to define the car's behaviors.<br>"
   ]
  },
  {
   "cell_type": "code",
   "execution_count": 4,
   "metadata": {},
   "outputs": [],
   "source": [
    "#EX:\n",
    "\n",
    "class Car:\n",
    "    def __init__ (self,color,year,model):\n",
    "        self.color=color\n",
    "        self.year=year\n",
    "        self.model=model\n",
    "        \n",
    "    def start_engine(self):\n",
    "        print(f\"The car of {self.color} color of {self.year} and {self.model} has started\")\n",
    "        \n",
    "    def accelerate(self):\n",
    "        print(f\"The car  {self.model} is accelerating \")\n",
    "    \n",
    "    def brake(self):\n",
    "        print(f\"The car  {self.model} has stopped\")"
   ]
  },
  {
   "cell_type": "code",
   "execution_count": 5,
   "metadata": {},
   "outputs": [
    {
     "name": "stdout",
     "output_type": "stream",
     "text": [
      "The car  Ferrari is accelerating \n",
      "The car  Ferrari has stopped\n"
     ]
    }
   ],
   "source": [
    "c=Car(\"Black\",\"2023\",\"Ferrari\")\n",
    "c.accelerate()\n",
    "c.brake()"
   ]
  },
  {
   "cell_type": "markdown",
   "metadata": {},
   "source": [
    "5. What is the difference between class variables and instance variables in Python?"
   ]
  },
  {
   "cell_type": "markdown",
   "metadata": {},
   "source": [
    "\n",
    "In Python, class variables and instance variables are two types of variables that serve different purposes and have different scopes within the context of object-oriented programming. Here are the main differences between them:<br>\n",
    "\n",
    "Scope:<br>\n",
    "\n",
    "Class variables: These variables are defined within the class but outside any methods. They are accessible to all instances (objects) of the class as well as the class itself.<br>\n",
    "Instance variables: These variables are defined within methods or the constructor of a class. They are unique to each instance of the class and can have different values for each object.<br>\n",
    "Access:<br>\n",
    "\n",
    "Class variables: They can be accessed using the class name or any instance of the class. When an instance accesses a class variable, it either refers to the class variable directly or through the instance (in which case, it inherits the value from the class).<br>\n",
    "Instance variables: They are accessed only through the instance of the class that they belong to. Each instance has its own set of instance variables, which are independent of other instances.<br>\n",
    "Usage:<br>\n",
    "\n",
    "Class variables: They are commonly used to store data that is shared among all instances of a class. For example, a class variable could represent a constant value applicable to all objects of that class.<br>\n",
    "Instance variables: They are used to store data that is unique to each instance. These variables hold specific values that may vary from one object to another.<br>\n",
    "Initialization:<br>\n",
    "\n",
    "Class variables: They are typically defined at the class level and can be assigned a value directly. They are shared by all instances of the class.<br>\n",
    "Instance variables: They are initialized within methods or the constructor (init) using the instance name. Each instance can have different values for instance variables.<br>"
   ]
  },
  {
   "cell_type": "markdown",
   "metadata": {},
   "source": [
    "6. What is the purpose of the self parameter in Python class methods?"
   ]
  },
  {
   "cell_type": "markdown",
   "metadata": {},
   "source": [
    "In Python, the self parameter is a convention used to refer to the instance of a class within its methods. It acts as a reference to the object through which a method is being called. The self parameter allows the instance to access its attributes and invoke its own methods.<br>\n",
    "\n",
    "When defining a class method in Python, the first parameter of the method is typically named self (although any valid variable name can be used). This parameter represents the instance of the class and is automatically passed when calling the method on an object.<br>\n",
    "\n",
    "The purpose of the self parameter is to provide a way for an instance to refer to itself and interact with its own data and behavior. It allows the instance to access and modify its own instance variables and invoke other methods defined within the class.<br>"
   ]
  },
  {
   "cell_type": "markdown",
   "metadata": {},
   "source": [
    "7. For a library management system, you have to design the \"Book\" class with OOP <br>\n",
    "principles in mind. The “Book” class will have following attributes: <br>\n",
    "a. title: Represents the title of the book. <br>\n",
    "b. author: Represents the author(s) of the book. <br>\n",
    "c. isbn: Represents the ISBN (International Standard Book Number) of the book. <br>\n",
    "d. publication_year: Represents the year of publication of the book. <br>\n",
    "e. available_copies: Represents the number of copies available for checkout. <br>\n",
    "The class will also include the following methods: <br>\n",
    "a. check_out(self): Decrements the available copies by one if there are copies\n",
    "available for checkout. <br>\n",
    "b. return_book(self): Increments the available copies by one when a book is\n",
    "returned. <br>\n",
    "c. display_book_info(self): Displays the information about the book, including its\n",
    "attributes and the number of available copies. <br>"
   ]
  },
  {
   "cell_type": "code",
   "execution_count": 6,
   "metadata": {},
   "outputs": [
    {
     "name": "stdout",
     "output_type": "stream",
     "text": [
      "Title: The Great Gatsby\n",
      "Author(s): F. Scott Fitzgerald\n",
      "ISBN: 978-3-16-148410-0\n",
      "Publication Year: 1925\n",
      "Available Copies: 2\n",
      "Book checked out successfully.\n",
      "Book checked out successfully.\n",
      "No available copies for checkout.\n",
      "Book returned successfully.\n",
      "Title: The Great Gatsby\n",
      "Author(s): F. Scott Fitzgerald\n",
      "ISBN: 978-3-16-148410-0\n",
      "Publication Year: 1925\n",
      "Available Copies: 1\n"
     ]
    }
   ],
   "source": [
    "class Book:\n",
    "    def __init__(self, title, author, isbn, publication_year, available_copies):\n",
    "        self.title = title\n",
    "        self.author = author\n",
    "        self.isbn = isbn\n",
    "        self.publication_year = publication_year\n",
    "        self.available_copies = available_copies\n",
    "\n",
    "    def check_out(self):\n",
    "        if self.available_copies > 0:\n",
    "            self.available_copies -= 1\n",
    "            print(\"Book checked out successfully.\")\n",
    "        else:\n",
    "            print(\"No available copies for checkout.\")\n",
    "\n",
    "    def return_book(self):\n",
    "        self.available_copies += 1\n",
    "        print(\"Book returned successfully.\")\n",
    "\n",
    "    def display_book_info(self):\n",
    "        print(\"Title:\", self.title)\n",
    "        print(\"Author(s):\", self.author)\n",
    "        print(\"ISBN:\", self.isbn)\n",
    "        print(\"Publication Year:\", self.publication_year)\n",
    "        print(\"Available Copies:\", self.available_copies)\n",
    "\n",
    "# Example usage:\n",
    "book1 = Book(\"The Great Gatsby\", \"F. Scott Fitzgerald\", \"978-3-16-148410-0\", 1925, 2)\n",
    "\n",
    "book1.display_book_info()  # Display book info\n",
    "book1.check_out()          # Check out a copy\n",
    "book1.check_out()          # Check out another copy\n",
    "book1.check_out()          # Attempt to check out when no copies are available\n",
    "book1.return_book()        # Return a book\n",
    "book1.display_book_info()  # Display updated book info\n"
   ]
  },
  {
   "cell_type": "markdown",
   "metadata": {},
   "source": [
    "8. For a ticket booking system, you have to design the \"Ticket\" class with OOP<br>\n",
    "principles in mind. The “Ticket” class should have the following attributes:<br>\n",
    "a. ticket_id: Represents the unique identifier for the ticket.<br>\n",
    "b. event_name: Represents the name of the event.<br>\n",
    "c. event_date: Represents the date of the event.<br>\n",
    "d. venue: Represents the venue of the event.<br>\n",
    "e. seat_number: Represents the seat number associated with the ticket.<br>\n",
    "f. price: Represents the price of the ticket.<br>\n",
    "g. is_reserved: Represents the reservation status of the ticket.<br>\n",
    "The class also includes the following methods:<br>\n",
    "a. reserve_ticket(self): Marks the ticket as reserved if it is not already reserved.<br>\n",
    "b. cancel_reservation(self): Cancels the reservation of the ticket if it is already\n",
    "reserved.<br>\n",
    "c. display_ticket_info(self): Displays the information about the ticket, including its\n",
    "attributes and reservation status.<br>"
   ]
  },
  {
   "cell_type": "code",
   "execution_count": 7,
   "metadata": {},
   "outputs": [
    {
     "name": "stdout",
     "output_type": "stream",
     "text": [
      "Ticket ID: T123\n",
      "Event Name: Concert\n",
      "Event Date: 2023-07-10\n",
      "Venue: Stadium\n",
      "Seat Number: A23\n",
      "Price: 50.0\n",
      "Reservation Status: Not Reserved\n",
      "Ticket reserved successfully.\n",
      "Ticket is already reserved.\n",
      "Reservation canceled successfully.\n",
      "Ticket is not reserved.\n",
      "Ticket ID: T123\n",
      "Event Name: Concert\n",
      "Event Date: 2023-07-10\n",
      "Venue: Stadium\n",
      "Seat Number: A23\n",
      "Price: 50.0\n",
      "Reservation Status: Not Reserved\n"
     ]
    }
   ],
   "source": [
    "class Ticket:\n",
    "    def __init__(self, ticket_id, event_name, event_date, venue, seat_number, price):\n",
    "        self.ticket_id = ticket_id\n",
    "        self.event_name = event_name\n",
    "        self.event_date = event_date\n",
    "        self.venue = venue\n",
    "        self.seat_number = seat_number\n",
    "        self.price = price\n",
    "        self.is_reserved = False\n",
    "\n",
    "    def reserve_ticket(self):\n",
    "        if not self.is_reserved:\n",
    "            self.is_reserved = True\n",
    "            print(\"Ticket reserved successfully.\")\n",
    "        else:\n",
    "            print(\"Ticket is already reserved.\")\n",
    "\n",
    "    def cancel_reservation(self):\n",
    "        if self.is_reserved:\n",
    "            self.is_reserved = False\n",
    "            print(\"Reservation canceled successfully.\")\n",
    "        else:\n",
    "            print(\"Ticket is not reserved.\")\n",
    "\n",
    "    def display_ticket_info(self):\n",
    "        print(\"Ticket ID:\", self.ticket_id)\n",
    "        print(\"Event Name:\", self.event_name)\n",
    "        print(\"Event Date:\", self.event_date)\n",
    "        print(\"Venue:\", self.venue)\n",
    "        print(\"Seat Number:\", self.seat_number)\n",
    "        print(\"Price:\", self.price)\n",
    "        print(\"Reservation Status:\", \"Reserved\" if self.is_reserved else \"Not Reserved\")\n",
    "\n",
    "# Example usage:\n",
    "ticket1 = Ticket(\"T123\", \"Concert\", \"2023-07-10\", \"Stadium\", \"A23\", 50.0)\n",
    "\n",
    "ticket1.display_ticket_info()    # Display ticket info\n",
    "ticket1.reserve_ticket()         # Reserve the ticket\n",
    "ticket1.reserve_ticket()         # Attempt to reserve again\n",
    "ticket1.cancel_reservation()     # Cancel the reservation\n",
    "ticket1.cancel_reservation()     # Attempt to cancel again\n",
    "ticket1.display_ticket_info()    # Display updated ticket info\n"
   ]
  },
  {
   "cell_type": "markdown",
   "metadata": {},
   "source": [
    "9. You are creating a shopping cart for an e-commerce website. Using OOP to model\n",
    "the \"ShoppingCart\" functionality the class should contain following attributes and\n",
    "methods:<br>\n",
    "a. items: Represents the list of items in the shopping cart.\n",
    "The class also includes the following methods:<br>\n",
    "b. add_item(self, item): Adds an item to the shopping cart by appending it to the\n",
    "list of items.<br>\n",
    "c. remove_item(self, item): Removes an item from the shopping cart if it exists in\n",
    "the list.<br>\n",
    "d. view_cart(self): Displays the items currently present in the shopping cart.<br>\n",
    "e. clear_cart(self): Clears all items from the shopping cart by reassigning an\n",
    "empty list to the items attribute.<br>"
   ]
  },
  {
   "cell_type": "code",
   "execution_count": 8,
   "metadata": {},
   "outputs": [
    {
     "name": "stdout",
     "output_type": "stream",
     "text": [
      "Item added to the shopping cart.\n",
      "Item added to the shopping cart.\n",
      "Item added to the shopping cart.\n",
      "Items in the shopping cart:\n",
      "-  Book\n",
      "-  Shirt\n",
      "-  Headphones\n",
      "Item removed from the shopping cart.\n",
      "Item not found in the shopping cart.\n",
      "Items in the shopping cart:\n",
      "-  Book\n",
      "-  Headphones\n",
      "Shopping cart cleared.\n",
      "Shopping cart is empty.\n"
     ]
    }
   ],
   "source": [
    "class ShoppingCart:\n",
    "    def __init__(self):\n",
    "        self.items = []\n",
    "\n",
    "    def add_item(self, item):\n",
    "        self.items.append(item)\n",
    "        print(\"Item added to the shopping cart.\")\n",
    "\n",
    "    def remove_item(self, item):\n",
    "        if item in self.items:\n",
    "            self.items.remove(item)\n",
    "            print(\"Item removed from the shopping cart.\")\n",
    "        else:\n",
    "            print(\"Item not found in the shopping cart.\")\n",
    "\n",
    "    def view_cart(self):\n",
    "        if self.items:\n",
    "            print(\"Items in the shopping cart:\")\n",
    "            for item in self.items:\n",
    "                print(\"- \", item)\n",
    "        else:\n",
    "            print(\"Shopping cart is empty.\")\n",
    "\n",
    "    def clear_cart(self):\n",
    "        self.items = []\n",
    "        print(\"Shopping cart cleared.\")\n",
    "\n",
    "# Example usage:\n",
    "cart = ShoppingCart()\n",
    "\n",
    "cart.add_item(\"Book\")\n",
    "cart.add_item(\"Shirt\")\n",
    "cart.add_item(\"Headphones\")\n",
    "\n",
    "cart.view_cart()\n",
    "\n",
    "cart.remove_item(\"Shirt\")\n",
    "cart.remove_item(\"Phone\")\n",
    "\n",
    "cart.view_cart()\n",
    "\n",
    "cart.clear_cart()\n",
    "\n",
    "cart.view_cart()\n"
   ]
  },
  {
   "cell_type": "markdown",
   "metadata": {},
   "source": [
    "10. Imagine a school management system. You have to design the \"Student\" class using\n",
    "OOP concepts.The “Student” class has the following attributes:<br>\n",
    "a. name: Represents the name of the student.<br>\n",
    "b. age: Represents the age of the student.<br>\n",
    "c. grade: Represents the grade or class of the student.<br>\n",
    "d. student_id: Represents the unique identifier for the student.<br><br>\n",
    "e. attendance: Represents the attendance record of the student.<br>\n",
    "The class should also include the following methods:<br>\n",
    "a. update_attendance(self, date, status): Updates the attendance record of the\n",
    "student for a given date with the provided status (e.g., present or absent).<br>\n",
    "b. get_attendance(self): Returns the attendance record of the student.<br>\n",
    "c. get_average_attendance(self): Calculates and returns the average\n",
    "attendance percentage of the student based on their attendance record.<br>"
   ]
  },
  {
   "cell_type": "code",
   "execution_count": 9,
   "metadata": {},
   "outputs": [
    {
     "name": "stdout",
     "output_type": "stream",
     "text": [
      "Attendance updated for John Doe on 2023-07-01.\n",
      "Attendance updated for John Doe on 2023-07-02.\n",
      "Attendance updated for John Doe on 2023-07-03.\n",
      "Attendance Record: {'2023-07-01': 'present', '2023-07-02': 'present', '2023-07-03': 'absent'}\n",
      "Average Attendance: 66.66666666666666\n"
     ]
    }
   ],
   "source": [
    "class Student:\n",
    "    def __init__(self, name, age, grade, student_id):\n",
    "        self.name = name\n",
    "        self.age = age\n",
    "        self.grade = grade\n",
    "        self.student_id = student_id\n",
    "        self.attendance = {}\n",
    "\n",
    "    def update_attendance(self, date, status):\n",
    "        self.attendance[date] = status\n",
    "        print(f\"Attendance updated for {self.name} on {date}.\")\n",
    "\n",
    "    def get_attendance(self):\n",
    "        return self.attendance\n",
    "\n",
    "    def get_average_attendance(self):\n",
    "        total_days = len(self.attendance)\n",
    "        if total_days == 0:\n",
    "            return 0\n",
    "\n",
    "        present_days = sum(status == \"present\" for status in self.attendance.values())\n",
    "        average_attendance = (present_days / total_days) * 100\n",
    "        return average_attendance\n",
    "\n",
    "# Example usage:\n",
    "student1 = Student(\"John Doe\", 15, \"10th grade\", \"S123\")\n",
    "\n",
    "student1.update_attendance(\"2023-07-01\", \"present\")\n",
    "student1.update_attendance(\"2023-07-02\", \"present\")\n",
    "student1.update_attendance(\"2023-07-03\", \"absent\")\n",
    "\n",
    "attendance_record = student1.get_attendance()\n",
    "print(\"Attendance Record:\", attendance_record)\n",
    "\n",
    "average_attendance = student1.get_average_attendance()\n",
    "print(\"Average Attendance:\", average_attendance)\n"
   ]
  },
  {
   "cell_type": "code",
   "execution_count": null,
   "metadata": {},
   "outputs": [],
   "source": []
  }
 ],
 "metadata": {
  "kernelspec": {
   "display_name": "Python 3",
   "language": "python",
   "name": "python3"
  },
  "language_info": {
   "codemirror_mode": {
    "name": "ipython",
    "version": 3
   },
   "file_extension": ".py",
   "mimetype": "text/x-python",
   "name": "python",
   "nbconvert_exporter": "python",
   "pygments_lexer": "ipython3",
   "version": "3.8.5"
  }
 },
 "nbformat": 4,
 "nbformat_minor": 4
}
