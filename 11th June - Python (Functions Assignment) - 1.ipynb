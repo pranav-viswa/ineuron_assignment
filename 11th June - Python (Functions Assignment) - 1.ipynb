{
 "cells": [
  {
   "cell_type": "markdown",
   "metadata": {},
   "source": [
    "1. What is a lambda function in Python, and how does it differ from a regular function?"
   ]
  },
  {
   "cell_type": "markdown",
   "metadata": {},
   "source": [
    "In Python lambda functions are anonymous functions which can have any number of arguements but only one expression.<br>\n",
    "eg : x = lambda a : a + 10  #Adds 10 to a <br>\n",
    "\n",
    "Lambda functions are typically used in situations where you need a small function for a short period and don't want to define a regular named function using the def keyword. The key difference between a lambda function and a regular function is that lambda functions:<br>\n",
    "\n",
    "Anonymity: Lambda functions are anonymous, meaning they don't have a name. They are often used when a function is needed for a short duration and doesn't require a full function definition.<br>\n",
    "\n",
    "Single Expression: Lambda functions can only contain a single expression. This expression is evaluated and returned when the lambda function is called.<br>\n",
    "\n",
    "Conciseness: Lambda functions are generally used for simple operations and are more concise than regular functions. They are best suited for simple tasks that can be expressed in a single expression.<br>\n",
    "\n",
    "Regular functions, on the other hand, are defined using the def keyword and have a name. They can contain multiple statements and have a more complex structure. They are ideal for more substantial tasks or reusable blocks of code.<br>\n",
    "\n",
    "eg :<br>\n",
    "\n",
    "def sum(n):<br>\n",
    "    sum=0<br>\n",
    "    sum=n(n+1)/2<br>\n",
    "    return sum<br>"
   ]
  },
  {
   "cell_type": "markdown",
   "metadata": {},
   "source": [
    "2. Can a lambda function in Python have multiple arguments? If yes, how can you define and use\n",
    "them?"
   ]
  },
  {
   "cell_type": "markdown",
   "metadata": {},
   "source": [
    "Yes, a lambda function in Python can have multiple arguments. The syntax for defining a lambda function with multiple arguments is as follows:<br>\n",
    "\n",
    "lambda arg1, arg2, ..., argN: expression <br>\n",
    "\n",
    "rectangle_area = lambda length, width: length * width <br>\n",
    "\n",
    "\n"
   ]
  },
  {
   "cell_type": "code",
   "execution_count": 1,
   "metadata": {},
   "outputs": [
    {
     "name": "stdout",
     "output_type": "stream",
     "text": [
      "50\n"
     ]
    }
   ],
   "source": [
    "\n",
    "rectangle_area = lambda length, width: length * width \n",
    "\n",
    "area = rectangle_area(5, 10)\n",
    "print(area) \n"
   ]
  },
  {
   "cell_type": "markdown",
   "metadata": {},
   "source": [
    "3. How are lambda functions typically used in Python? Provide an example use case."
   ]
  },
  {
   "cell_type": "markdown",
   "metadata": {},
   "source": [
    "Lambda functions in Python are typically used in situations where a small, simple function is required for a short period, and the overhead of defining a regular named function using def is unnecessary. They are often used as \"throwaway\" functions or as arguments to higher-order functions like map(), filter(), and sorted().<br>\n",
    "\n",
    "Lambda functions are also commonly used with the map() and filter() functions for quick and concise transformations and filtering of data. For example:<br>\n",
    "\n"
   ]
  },
  {
   "cell_type": "code",
   "execution_count": 2,
   "metadata": {},
   "outputs": [
    {
     "name": "stdout",
     "output_type": "stream",
     "text": [
      "[1, 4, 9, 16, 25]\n",
      "[2, 4]\n"
     ]
    }
   ],
   "source": [
    "numbers = [1, 2, 3, 4, 5]\n",
    "\n",
    "# Use map to square each number in the list\n",
    "squared_numbers = map(lambda x: x ** 2, numbers)\n",
    "print(list(squared_numbers))  \n",
    "\n",
    "# Use filter to keep only even numbers in the list\n",
    "even_numbers = filter(lambda x: x % 2 == 0, numbers)\n",
    "print(list(even_numbers))  \n"
   ]
  },
  {
   "cell_type": "markdown",
   "metadata": {},
   "source": [
    "4. What are the advantages and limitations of lambda functions compared to regular functions in\n",
    "Python?"
   ]
  },
  {
   "cell_type": "markdown",
   "metadata": {},
   "source": [
    "Lambda functions in Python have several advantages and limitations compared to regular functions:<br>\n",
    "\n",
    "Advantages of Lambda Functions:<br>\n",
    "\n",
    "Conciseness: Lambda functions are more concise and often allow you to express simple operations in a more compact way. This can lead to cleaner and more readable code, especially when used with higher-order functions like map(), filter(), and sorted().<br>\n",
    "\n",
    "Anonymity: Lambda functions are anonymous, meaning they don't require a specific name to be defined. This can be useful for short, throwaway functions where a name isn't necessary or when you want to use a function as an argument to another function without the need to define a full function.<br>\n",
    "\n",
    "Function Expressions: Lambda functions are treated as expressions in Python, which means they can be used in places where regular functions cannot, such as within a list comprehension.<br>\n",
    "\n",
    "Closures: Like regular functions, lambda functions can access variables from the surrounding scope, allowing for simple closures.<br>\n",
    "\n",
    "Limitations of Lambda Functions:<br>\n",
    "\n",
    "Single Expression: Lambda functions can only contain a single expression, which must be returned implicitly. This limitation makes them unsuitable for more complex tasks that require multiple statements or a more elaborate function structure.<br>\n",
    "\n",
    "Limited Readability: While lambda functions can make code more concise, overly complex or nested lambda expressions can lead to decreased code readability. In such cases, using a regular named function with well-chosen descriptive names may improve code understandability.<br>\n",
    "\n",
    "No Documentation Strings: Lambda functions do not support documentation strings (docstrings), which are used to provide descriptions and information about regular functions. This lack of documentation can make it harder for others (and even yourself) to understand the purpose and usage of the lambda function.<br>\n",
    "\n",
    "Limited Debugging: Since lambda functions are anonymous, debugging can be more challenging when an error occurs within a lambda function. Regular functions with named identifiers are typically easier to debug because you can identify them more precisely in error messages and stack traces.<br>\n",
    "\n",
    "Limited Reusability: Lambda functions are best suited for simple, short-lived tasks. If you find yourself needing to reuse a function or define a more complex operation, using a regular named function with def is a more suitable approach.<br>"
   ]
  },
  {
   "cell_type": "markdown",
   "metadata": {},
   "source": [
    "5. Are lambda functions in Python able to access variables defined outside of their own scope?\n",
    "Explain with an example.\n"
   ]
  },
  {
   "cell_type": "markdown",
   "metadata": {},
   "source": [
    "\n",
    "Yes, lambda functions in Python can access variables defined outside of their own scope. They have access to variables from the surrounding scope, just like regular functions. This feature is known as \"closure\" and allows lambda functions to capture and remember the values of variables in their enclosing lexical scope."
   ]
  },
  {
   "cell_type": "code",
   "execution_count": 3,
   "metadata": {},
   "outputs": [
    {
     "name": "stdout",
     "output_type": "stream",
     "text": [
      "15\n"
     ]
    }
   ],
   "source": [
    "def outer_function():\n",
    "    outer_variable = 10\n",
    "\n",
    "    # Define a lambda function inside the outer_function\n",
    "    inner_lambda = lambda x: x + outer_variable\n",
    "\n",
    "    return inner_lambda\n",
    "\n",
    "# Call the outer_function to get the inner_lambda\n",
    "result_lambda = outer_function()\n",
    "\n",
    "# Use the inner_lambda to perform a calculation\n",
    "result = result_lambda(5)\n",
    "\n",
    "print(result)\n"
   ]
  },
  {
   "cell_type": "markdown",
   "metadata": {},
   "source": [
    "6. Write a lambda function to calculate the square of a given number."
   ]
  },
  {
   "cell_type": "code",
   "execution_count": 4,
   "metadata": {},
   "outputs": [
    {
     "data": {
      "text/plain": [
       "4"
      ]
     },
     "execution_count": 4,
     "metadata": {},
     "output_type": "execute_result"
    }
   ],
   "source": [
    "sqr=lambda x: x**2\n",
    "\n",
    "s=sqr(2)\n",
    "s"
   ]
  },
  {
   "cell_type": "markdown",
   "metadata": {},
   "source": [
    "7. Create a lambda function to find the maximum value in a list of integers."
   ]
  },
  {
   "cell_type": "code",
   "execution_count": 5,
   "metadata": {},
   "outputs": [
    {
     "data": {
      "text/plain": [
       "75"
      ]
     },
     "execution_count": 5,
     "metadata": {},
     "output_type": "execute_result"
    }
   ],
   "source": [
    "max_num=lambda x : max(x)\n",
    "\n",
    "\n",
    "max_lst_num=max_num([1,4,35,66,75])\n",
    "max_lst_num"
   ]
  },
  {
   "cell_type": "markdown",
   "metadata": {},
   "source": [
    "8. Implement a lambda function to filter out all the even numbers from a list of integers."
   ]
  },
  {
   "cell_type": "code",
   "execution_count": 6,
   "metadata": {},
   "outputs": [
    {
     "name": "stdout",
     "output_type": "stream",
     "text": [
      "[2, 4, 6, 8, 10]\n"
     ]
    }
   ],
   "source": [
    "filter_even = lambda lst: list(filter(lambda x: x % 2 == 0, lst))\n",
    "\n",
    "numbers = [1, 2, 3, 4, 5, 6, 7, 8, 9, 10]\n",
    "\n",
    "even_numbers = filter_even(numbers)\n",
    "print(even_numbers)  \n",
    "\n"
   ]
  },
  {
   "cell_type": "markdown",
   "metadata": {},
   "source": [
    "9. Write a lambda function to sort a list of strings in ascending order based on the length of each\n",
    "string."
   ]
  },
  {
   "cell_type": "code",
   "execution_count": 7,
   "metadata": {},
   "outputs": [
    {
     "name": "stdout",
     "output_type": "stream",
     "text": [
      "['kiwi', 'pear', 'apple', 'grape', 'banana', 'orange']\n"
     ]
    }
   ],
   "source": [
    "sort_by_length = lambda lst: sorted(lst, key=lambda s: len(s))\n",
    "\n",
    "\n",
    "words = [\"apple\", \"banana\", \"orange\", \"grape\", \"kiwi\", \"pear\"]\n",
    "\n",
    "sorted_words = sort_by_length(words)\n",
    "print(sorted_words)\n",
    "\n"
   ]
  },
  {
   "cell_type": "markdown",
   "metadata": {},
   "source": [
    "10. Create a lambda function that takes two lists as input and returns a new list containing the\n",
    "common elements between the two lists."
   ]
  },
  {
   "cell_type": "code",
   "execution_count": 8,
   "metadata": {},
   "outputs": [
    {
     "name": "stdout",
     "output_type": "stream",
     "text": [
      "[3, 4, 5]\n"
     ]
    }
   ],
   "source": [
    "find_common_elements = lambda list1, list2: list(filter(lambda x: x in list2, list1))\n",
    "\n",
    "list1 = [1, 2, 3, 4, 5]\n",
    "list2 = [3, 4, 5, 6, 7]\n",
    "\n",
    "common_elements = find_common_elements(list1, list2)\n",
    "print(common_elements)  # Output: [3, 4, 5]\n"
   ]
  },
  {
   "cell_type": "markdown",
   "metadata": {},
   "source": [
    "11. Write a recursive function to calculate the factorial of a given positive integer."
   ]
  },
  {
   "cell_type": "code",
   "execution_count": 9,
   "metadata": {},
   "outputs": [],
   "source": [
    "def factorial(n):\n",
    "    if n == 0:\n",
    "        return 1\n",
    "    else:\n",
    "        return n * factorial(n - 1)\n"
   ]
  },
  {
   "cell_type": "code",
   "execution_count": 11,
   "metadata": {},
   "outputs": [
    {
     "name": "stdout",
     "output_type": "stream",
     "text": [
      "120\n"
     ]
    }
   ],
   "source": [
    "result = factorial(5)\n",
    "print(result)  \n",
    "\n"
   ]
  },
  {
   "cell_type": "markdown",
   "metadata": {},
   "source": [
    "12. Implement a recursive function to compute the nth Fibonacci number."
   ]
  },
  {
   "cell_type": "code",
   "execution_count": 14,
   "metadata": {},
   "outputs": [
    {
     "name": "stdout",
     "output_type": "stream",
     "text": [
      "13\n"
     ]
    }
   ],
   "source": [
    "def solve(n):\n",
    "    if n <= 2:\n",
    "        return n - 1\n",
    "    else:\n",
    "        return solve(n - 1) + solve(n - 2)\n",
    "\n",
    "n = 8\n",
    "print(solve(n))"
   ]
  },
  {
   "cell_type": "markdown",
   "metadata": {},
   "source": [
    "13. Create a recursive function to find the sum of all the elements in a given list."
   ]
  },
  {
   "cell_type": "code",
   "execution_count": 15,
   "metadata": {},
   "outputs": [],
   "source": [
    "def list_sum(lst):\n",
    "    if not lst:\n",
    "        return 0\n",
    "    else:\n",
    "        return lst[0] + list_sum(lst[1:])\n"
   ]
  },
  {
   "cell_type": "code",
   "execution_count": 16,
   "metadata": {},
   "outputs": [
    {
     "name": "stdout",
     "output_type": "stream",
     "text": [
      "60\n"
     ]
    }
   ],
   "source": [
    "\n",
    "\n",
    "numbers = [10, 20, 30]\n",
    "\n",
    "result = list_sum(numbers)\n",
    "print(result)  \n"
   ]
  },
  {
   "cell_type": "markdown",
   "metadata": {},
   "source": [
    "14. Write a recursive function to determine whether a given string is a palindrome."
   ]
  },
  {
   "cell_type": "code",
   "execution_count": 17,
   "metadata": {},
   "outputs": [],
   "source": [
    "def is_palindrome(s):\n",
    "   \n",
    "    if len(s) <= 1:\n",
    "        return True\n",
    "    \n",
    "    elif s[0] == s[-1]:\n",
    "        return is_palindrome(s[1:-1])\n",
    "    else:\n",
    "        return False\n"
   ]
  },
  {
   "cell_type": "code",
   "execution_count": 18,
   "metadata": {},
   "outputs": [
    {
     "name": "stdout",
     "output_type": "stream",
     "text": [
      "True\n",
      "False\n"
     ]
    }
   ],
   "source": [
    "print(is_palindrome(\"radar\"))  \n",
    "print(is_palindrome(\"hello\"))  \n",
    "\n"
   ]
  },
  {
   "cell_type": "markdown",
   "metadata": {},
   "source": [
    "15. Implement a recursive function to find the greatest common divisor (GCD) of two positive integers."
   ]
  },
  {
   "cell_type": "code",
   "execution_count": 19,
   "metadata": {},
   "outputs": [],
   "source": [
    "def gcd(a, b):\n",
    "    if b == 0:\n",
    "        return a\n",
    "    else:\n",
    "        return gcd(b, a % b)\n"
   ]
  },
  {
   "cell_type": "code",
   "execution_count": 20,
   "metadata": {},
   "outputs": [
    {
     "name": "stdout",
     "output_type": "stream",
     "text": [
      "6\n"
     ]
    }
   ],
   "source": [
    "print(gcd(24, 18))  "
   ]
  },
  {
   "cell_type": "code",
   "execution_count": null,
   "metadata": {},
   "outputs": [],
   "source": []
  }
 ],
 "metadata": {
  "kernelspec": {
   "display_name": "Python 3",
   "language": "python",
   "name": "python3"
  },
  "language_info": {
   "codemirror_mode": {
    "name": "ipython",
    "version": 3
   },
   "file_extension": ".py",
   "mimetype": "text/x-python",
   "name": "python",
   "nbconvert_exporter": "python",
   "pygments_lexer": "ipython3",
   "version": "3.8.5"
  }
 },
 "nbformat": 4,
 "nbformat_minor": 4
}
