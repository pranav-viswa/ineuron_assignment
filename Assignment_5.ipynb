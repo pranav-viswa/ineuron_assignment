{
 "cells": [
  {
   "cell_type": "markdown",
   "metadata": {},
   "source": [
    "1. What does an empty dictionary's code look like?"
   ]
  },
  {
   "cell_type": "markdown",
   "metadata": {},
   "source": [
    "An empty dictionary is represented by a pair of curly braces {}"
   ]
  },
  {
   "cell_type": "code",
   "execution_count": 1,
   "metadata": {},
   "outputs": [
    {
     "data": {
      "text/plain": [
       "dict"
      ]
     },
     "execution_count": 1,
     "metadata": {},
     "output_type": "execute_result"
    }
   ],
   "source": [
    "my_dict={}\n",
    "\n",
    "type(my_dict)"
   ]
  },
  {
   "cell_type": "markdown",
   "metadata": {},
   "source": [
    "2. What is the value of a dictionary value with the key &#39;foo&#39; and the value 42?"
   ]
  },
  {
   "cell_type": "code",
   "execution_count": 2,
   "metadata": {},
   "outputs": [
    {
     "name": "stdout",
     "output_type": "stream",
     "text": [
      "42\n"
     ]
    }
   ],
   "source": [
    "my_dict = {'foo': 42}\n",
    "value = my_dict['foo']\n",
    "print(value)  # Output: 42\n"
   ]
  },
  {
   "cell_type": "markdown",
   "metadata": {},
   "source": [
    "3. What is the most significant distinction between a dictionary and a list?"
   ]
  },
  {
   "cell_type": "markdown",
   "metadata": {},
   "source": [
    "Structure:<br>\n",
    "\n",
    "List: A list is an ordered collection of elements. Elements in a list are indexed and can be accessed and manipulated using their positions or indices. Lists are defined using square brackets [] and are mutable, allowing for the addition, removal, and modification of elements.<br>\n",
    "Example: [1, 2, 3, 4, 5]<br>\n",
    "\n",
    "Dictionary: A dictionary is an unordered collection of key-value pairs. Each key in a dictionary is unique and associated with a corresponding value. Dictionary keys are used to access and retrieve their corresponding values. Dictionaries are defined using curly braces {} and are mutable.<br>\n",
    "Example: {'name': 'John', 'age': 30, 'city': 'New York'}<br>\n",
    "\n",
    "Organization and Access:<br>\n",
    "\n",
    "List: Lists store elements in a sequential order, with each element having an index starting from 0. Elements can be accessed using their indices or by utilizing list methods and operations like slicing.<br>\n",
    "Example: my_list[0] or my_list[2:4]<br>\n",
    "\n",
    "Dictionary: Dictionaries organize data using key-value pairs. The keys act as labels or identifiers for the corresponding values. Elements in a dictionary are accessed by their unique keys rather than their positions.<br>\n",
    "Example: my_dict['name']<br>\n",
    "\n",
    "Element Mutability:<br>\n",
    "\n",
    "List: Lists are mutable, meaning we can modify, add, and remove elements within a list after it is created. The order and positions of the elements can be changed, and elements can be replaced or modified directly.<br>\n",
    "Example: my_list[2] = 10 or my_list.append(6)<br>\n",
    "<br>\n",
    "Dictionary: Dictionaries are also mutable, allowing us to add, modify, or remove key-value pairs. However, the keys themselves are immutable. Once a key is assigned, it cannot be changed. Values associated with keys can be modified or replaced.<br>\n",
    "Example: my_dict['age'] = 31 or del my_dict['city']<br>"
   ]
  },
  {
   "cell_type": "markdown",
   "metadata": {},
   "source": [
    "4. What happens if you try to access spam[&#39;foo&#39;] if spam is {&#39;bar&#39;: 100}?"
   ]
  },
  {
   "cell_type": "code",
   "execution_count": 3,
   "metadata": {},
   "outputs": [
    {
     "ename": "KeyError",
     "evalue": "'foo'",
     "output_type": "error",
     "traceback": [
      "\u001b[1;31m---------------------------------------------------------------------------\u001b[0m",
      "\u001b[1;31mKeyError\u001b[0m                                  Traceback (most recent call last)",
      "\u001b[1;32m<ipython-input-3-c7cb5fc882c8>\u001b[0m in \u001b[0;36m<module>\u001b[1;34m\u001b[0m\n\u001b[0;32m      1\u001b[0m \u001b[0mspam\u001b[0m \u001b[1;33m=\u001b[0m \u001b[1;33m{\u001b[0m\u001b[1;34m'bar'\u001b[0m\u001b[1;33m:\u001b[0m \u001b[1;36m100\u001b[0m\u001b[1;33m}\u001b[0m\u001b[1;33m\u001b[0m\u001b[1;33m\u001b[0m\u001b[0m\n\u001b[1;32m----> 2\u001b[1;33m \u001b[0mvalue\u001b[0m \u001b[1;33m=\u001b[0m \u001b[0mspam\u001b[0m\u001b[1;33m[\u001b[0m\u001b[1;34m'foo'\u001b[0m\u001b[1;33m]\u001b[0m\u001b[1;33m\u001b[0m\u001b[1;33m\u001b[0m\u001b[0m\n\u001b[0m",
      "\u001b[1;31mKeyError\u001b[0m: 'foo'"
     ]
    }
   ],
   "source": [
    "spam = {'bar': 100}\n",
    "value = spam['foo']\n"
   ]
  },
  {
   "cell_type": "markdown",
   "metadata": {},
   "source": [
    "The KeyError is raised when we try to access a key in a dictionary that does not exist"
   ]
  },
  {
   "cell_type": "markdown",
   "metadata": {},
   "source": [
    "5. If a dictionary is stored in spam, what is the difference between the expressions 'cat' in spam and\n",
    "'cat' in spam.keys()?"
   ]
  },
  {
   "cell_type": "markdown",
   "metadata": {},
   "source": [
    "'cat' in spam:\n",
    "This expression checks if the key 'cat' is present in the dictionary spam. It specifically checks if the key exists among the keys of the dictionary, regardless of their associated values."
   ]
  },
  {
   "cell_type": "markdown",
   "metadata": {},
   "source": [
    "cat' in spam.keys():\n",
    "This expression also checks if the key 'cat' is present in the dictionary spam. However, it explicitly uses the keys() method of the dictionary to obtain a list-like view of the dictionary's keys and checks for the presence of the key in that list."
   ]
  },
  {
   "cell_type": "markdown",
   "metadata": {},
   "source": [
    "6. If a dictionary is stored in spam, what is the difference between the expressions 'cat' in spam and\n",
    "'cat' in spam.values()?"
   ]
  },
  {
   "cell_type": "markdown",
   "metadata": {},
   "source": [
    "'cat' in spam:\n",
    "This expression checks if the key 'cat' is present in the dictionary spam. It specifically checks if the key exists among the keys of the dictionary, regardless of their associated values.\n",
    "\n",
    "cat' in spam.keys():\n",
    "This expression also checks if the key 'cat' is present in the dictionary spam. However, it explicitly uses the keys() method of the dictionary to obtain a list-like view of the dictionary's keys and checks for the presence of the key in that list."
   ]
  },
  {
   "cell_type": "markdown",
   "metadata": {},
   "source": [
    "7. What is a shortcut for the following code?<br>\n",
    "if 'color' not in spam:<br>\n",
    "    spam['color']='black'<br>\n"
   ]
  },
  {
   "cell_type": "code",
   "execution_count": null,
   "metadata": {},
   "outputs": [],
   "source": []
  }
 ],
 "metadata": {
  "kernelspec": {
   "display_name": "Python 3",
   "language": "python",
   "name": "python3"
  },
  "language_info": {
   "codemirror_mode": {
    "name": "ipython",
    "version": 3
   },
   "file_extension": ".py",
   "mimetype": "text/x-python",
   "name": "python",
   "nbconvert_exporter": "python",
   "pygments_lexer": "ipython3",
   "version": "3.8.5"
  }
 },
 "nbformat": 4,
 "nbformat_minor": 4
}
